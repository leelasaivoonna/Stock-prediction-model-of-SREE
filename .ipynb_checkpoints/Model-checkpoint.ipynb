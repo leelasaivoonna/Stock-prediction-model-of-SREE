{
 "cells": [
  {
   "cell_type": "code",
   "execution_count": 1,
   "id": "82d37b6e",
   "metadata": {},
   "outputs": [],
   "source": [
    "import pandas as pd\n",
    "import numpy as np\n",
    "import matplotlib.pyplot as plt\n",
    "import seaborn as sns\n",
    "import matplotlib.pyplot as plt"
   ]
  },
  {
   "cell_type": "code",
   "execution_count": 2,
   "id": "f2e211c5",
   "metadata": {},
   "outputs": [],
   "source": [
    "data = pd.read_csv(\"SRE_data.csv\")"
   ]
  },
  {
   "cell_type": "code",
   "execution_count": 3,
   "id": "448fb5d6",
   "metadata": {},
   "outputs": [
    {
     "data": {
      "text/html": [
       "<div>\n",
       "<style scoped>\n",
       "    .dataframe tbody tr th:only-of-type {\n",
       "        vertical-align: middle;\n",
       "    }\n",
       "\n",
       "    .dataframe tbody tr th {\n",
       "        vertical-align: top;\n",
       "    }\n",
       "\n",
       "    .dataframe thead th {\n",
       "        text-align: right;\n",
       "    }\n",
       "</style>\n",
       "<table border=\"1\" class=\"dataframe\">\n",
       "  <thead>\n",
       "    <tr style=\"text-align: right;\">\n",
       "      <th></th>\n",
       "      <th>date</th>\n",
       "      <th>open</th>\n",
       "      <th>high</th>\n",
       "      <th>low</th>\n",
       "      <th>close</th>\n",
       "      <th>volume</th>\n",
       "      <th>Name</th>\n",
       "    </tr>\n",
       "  </thead>\n",
       "  <tbody>\n",
       "    <tr>\n",
       "      <th>0</th>\n",
       "      <td>2013-02-08</td>\n",
       "      <td>75.60</td>\n",
       "      <td>76.190</td>\n",
       "      <td>75.40</td>\n",
       "      <td>76.14</td>\n",
       "      <td>767226</td>\n",
       "      <td>SRE</td>\n",
       "    </tr>\n",
       "    <tr>\n",
       "      <th>1</th>\n",
       "      <td>2013-02-11</td>\n",
       "      <td>76.02</td>\n",
       "      <td>76.138</td>\n",
       "      <td>75.57</td>\n",
       "      <td>75.76</td>\n",
       "      <td>599953</td>\n",
       "      <td>SRE</td>\n",
       "    </tr>\n",
       "    <tr>\n",
       "      <th>2</th>\n",
       "      <td>2013-02-12</td>\n",
       "      <td>75.77</td>\n",
       "      <td>75.940</td>\n",
       "      <td>75.49</td>\n",
       "      <td>75.83</td>\n",
       "      <td>750838</td>\n",
       "      <td>SRE</td>\n",
       "    </tr>\n",
       "    <tr>\n",
       "      <th>3</th>\n",
       "      <td>2013-02-13</td>\n",
       "      <td>75.80</td>\n",
       "      <td>76.390</td>\n",
       "      <td>75.58</td>\n",
       "      <td>76.33</td>\n",
       "      <td>608662</td>\n",
       "      <td>SRE</td>\n",
       "    </tr>\n",
       "    <tr>\n",
       "      <th>4</th>\n",
       "      <td>2013-02-14</td>\n",
       "      <td>76.20</td>\n",
       "      <td>76.500</td>\n",
       "      <td>75.31</td>\n",
       "      <td>75.35</td>\n",
       "      <td>1248983</td>\n",
       "      <td>SRE</td>\n",
       "    </tr>\n",
       "  </tbody>\n",
       "</table>\n",
       "</div>"
      ],
      "text/plain": [
       "         date   open    high    low  close   volume Name\n",
       "0  2013-02-08  75.60  76.190  75.40  76.14   767226  SRE\n",
       "1  2013-02-11  76.02  76.138  75.57  75.76   599953  SRE\n",
       "2  2013-02-12  75.77  75.940  75.49  75.83   750838  SRE\n",
       "3  2013-02-13  75.80  76.390  75.58  76.33   608662  SRE\n",
       "4  2013-02-14  76.20  76.500  75.31  75.35  1248983  SRE"
      ]
     },
     "execution_count": 3,
     "metadata": {},
     "output_type": "execute_result"
    }
   ],
   "source": [
    "data.head()"
   ]
  },
  {
   "cell_type": "code",
   "execution_count": 4,
   "id": "feb013cd",
   "metadata": {},
   "outputs": [],
   "source": [
    "data.drop(\"Name\",axis=1,inplace=True)"
   ]
  },
  {
   "cell_type": "code",
   "execution_count": 5,
   "id": "23754c0a",
   "metadata": {},
   "outputs": [
    {
     "data": {
      "text/plain": [
       "(1259, 6)"
      ]
     },
     "execution_count": 5,
     "metadata": {},
     "output_type": "execute_result"
    }
   ],
   "source": [
    "data.shape"
   ]
  },
  {
   "cell_type": "code",
   "execution_count": 6,
   "id": "8cd9e650",
   "metadata": {},
   "outputs": [],
   "source": [
    "data_col=[\"open\",\"high\",\"low\",\"close\"]"
   ]
  },
  {
   "cell_type": "code",
   "execution_count": 7,
   "id": "f0f3ea52",
   "metadata": {},
   "outputs": [
    {
     "data": {
      "text/html": [
       "<div>\n",
       "<style scoped>\n",
       "    .dataframe tbody tr th:only-of-type {\n",
       "        vertical-align: middle;\n",
       "    }\n",
       "\n",
       "    .dataframe tbody tr th {\n",
       "        vertical-align: top;\n",
       "    }\n",
       "\n",
       "    .dataframe thead th {\n",
       "        text-align: right;\n",
       "    }\n",
       "</style>\n",
       "<table border=\"1\" class=\"dataframe\">\n",
       "  <thead>\n",
       "    <tr style=\"text-align: right;\">\n",
       "      <th></th>\n",
       "      <th>date</th>\n",
       "      <th>open</th>\n",
       "      <th>high</th>\n",
       "      <th>low</th>\n",
       "      <th>close</th>\n",
       "      <th>volume</th>\n",
       "    </tr>\n",
       "  </thead>\n",
       "  <tbody>\n",
       "    <tr>\n",
       "      <th>0</th>\n",
       "      <td>2013-02-08</td>\n",
       "      <td>75.60</td>\n",
       "      <td>76.190</td>\n",
       "      <td>75.40</td>\n",
       "      <td>76.14</td>\n",
       "      <td>767226</td>\n",
       "    </tr>\n",
       "    <tr>\n",
       "      <th>1</th>\n",
       "      <td>2013-02-11</td>\n",
       "      <td>76.02</td>\n",
       "      <td>76.138</td>\n",
       "      <td>75.57</td>\n",
       "      <td>75.76</td>\n",
       "      <td>599953</td>\n",
       "    </tr>\n",
       "    <tr>\n",
       "      <th>2</th>\n",
       "      <td>2013-02-12</td>\n",
       "      <td>75.77</td>\n",
       "      <td>75.940</td>\n",
       "      <td>75.49</td>\n",
       "      <td>75.83</td>\n",
       "      <td>750838</td>\n",
       "    </tr>\n",
       "    <tr>\n",
       "      <th>3</th>\n",
       "      <td>2013-02-13</td>\n",
       "      <td>75.80</td>\n",
       "      <td>76.390</td>\n",
       "      <td>75.58</td>\n",
       "      <td>76.33</td>\n",
       "      <td>608662</td>\n",
       "    </tr>\n",
       "    <tr>\n",
       "      <th>4</th>\n",
       "      <td>2013-02-14</td>\n",
       "      <td>76.20</td>\n",
       "      <td>76.500</td>\n",
       "      <td>75.31</td>\n",
       "      <td>75.35</td>\n",
       "      <td>1248983</td>\n",
       "    </tr>\n",
       "  </tbody>\n",
       "</table>\n",
       "</div>"
      ],
      "text/plain": [
       "         date   open    high    low  close   volume\n",
       "0  2013-02-08  75.60  76.190  75.40  76.14   767226\n",
       "1  2013-02-11  76.02  76.138  75.57  75.76   599953\n",
       "2  2013-02-12  75.77  75.940  75.49  75.83   750838\n",
       "3  2013-02-13  75.80  76.390  75.58  76.33   608662\n",
       "4  2013-02-14  76.20  76.500  75.31  75.35  1248983"
      ]
     },
     "execution_count": 7,
     "metadata": {},
     "output_type": "execute_result"
    }
   ],
   "source": [
    "data.head()"
   ]
  },
  {
   "cell_type": "code",
   "execution_count": 8,
   "id": "c095d860",
   "metadata": {},
   "outputs": [
    {
     "data": {
      "text/plain": [
       "date      0\n",
       "open      0\n",
       "high      0\n",
       "low       0\n",
       "close     0\n",
       "volume    0\n",
       "dtype: int64"
      ]
     },
     "execution_count": 8,
     "metadata": {},
     "output_type": "execute_result"
    }
   ],
   "source": [
    "data.isnull().sum()"
   ]
  },
  {
   "cell_type": "code",
   "execution_count": 9,
   "id": "0f92a477",
   "metadata": {},
   "outputs": [],
   "source": [
    "df=data.drop(\"date\",axis=1)"
   ]
  },
  {
   "cell_type": "code",
   "execution_count": 10,
   "id": "491549a5",
   "metadata": {},
   "outputs": [
    {
     "data": {
      "image/png": "[encoded data removed]",
      "text/plain": [
       "<Figure size 1000x600 with 4 Axes>"
      ]
     },
     "metadata": {
      "needs_background": "light"
     },
     "output_type": "display_data"
    }
   ],
   "source": [
    "fig,axes=plt.subplots(4,1,dpi=100,figsize=(10,6))\n",
    "for i,ax in enumerate(axes.flatten()):\n",
    "    dataa=df[df.columns[i]]\n",
    "    ax.plot(dataa,color=\"b\",linewidth=1)\n",
    "    ax.set_title(df.columns[i])\n",
    "    \n",
    "plt.tight_layout();"
   ]
  },
  {
   "cell_type": "code",
   "execution_count": 11,
   "id": "45ec8df0",
   "metadata": {},
   "outputs": [
    {
     "data": {
      "text/plain": [
       "<AxesSubplot:>"
      ]
     },
     "execution_count": 11,
     "metadata": {},
     "output_type": "execute_result"
    },
    {
     "data": {
      "image/png": "[encoded data removed]",
      "text/plain": [
       "<Figure size 432x288 with 2 Axes>"
      ]
     },
     "metadata": {
      "needs_background": "light"
     },
     "output_type": "display_data"
    }
   ],
   "source": [
    "sns.heatmap(data.corr())"
   ]
  },
  {
   "cell_type": "code",
   "execution_count": 12,
   "id": "50541c26",
   "metadata": {},
   "outputs": [
    {
     "ename": "SyntaxError",
     "evalue": "invalid syntax (<ipython-input-12-9bfdd711ba7c>, line 4)",
     "output_type": "error",
     "traceback": [
      "\u001b[1;36m  File \u001b[1;32m\"<ipython-input-12-9bfdd711ba7c>\"\u001b[1;36m, line \u001b[1;32m4\u001b[0m\n\u001b[1;33m    print(f\"ADF Statastics:\"{ad_fuller_result_1[0]})\u001b[0m\n\u001b[1;37m                            ^\u001b[0m\n\u001b[1;31mSyntaxError\u001b[0m\u001b[1;31m:\u001b[0m invalid syntax\n"
     ]
    }
   ],
   "source": [
    "from statsmodels.tsa.stattools import adfuller \n",
    "ad_fuller_result_1=adfuller(df)#.diff()[1:])\n",
    "print(\"readgdp\")\n",
    "print(f\"ADF Statastics:\"{ad_fuller_result_1[0]})\n",
    "print(\"p-value:\"{ad_fuller_result_1[1]})\n",
    "#if the p value is less than 0.05 then the data is stationary"
   ]
  },
  {
   "cell_type": "code",
   "execution_count": null,
   "id": "06cdb31a",
   "metadata": {},
   "outputs": [],
   "source": []
  },
  {
   "cell_type": "code",
   "execution_count": null,
   "id": "e874011a",
   "metadata": {},
   "outputs": [],
   "source": [
    "df=data.reset_index()[\"close\"]"
   ]
  },
  {
   "cell_type": "code",
   "execution_count": null,
   "id": "c6a918ea",
   "metadata": {},
   "outputs": [],
   "source": [
    "from sklearn.preprocessing import MinMaxScaler\n",
    "scale=MinMaxScaler(feature_range=(0,1))\n",
    "df1=scale.fit_transform(np.array(df).reshape(-1,1))"
   ]
  },
  {
   "cell_type": "code",
   "execution_count": null,
   "id": "b3c61499",
   "metadata": {},
   "outputs": [],
   "source": [
    "train_data=int(len(df1)*0.70)\n",
    "test_data=len(df1)-train_data\n",
    "train_data=df1[:-test_data]\n",
    "test_data=df1[-test_data:]"
   ]
  },
  {
   "cell_type": "code",
   "execution_count": null,
   "id": "0d3ab2e4",
   "metadata": {},
   "outputs": [],
   "source": [
    "def create_dataset(dataset,time_step=1):\n",
    "    datax,datay=[],[]\n",
    "    for i in range(len(dataset)-time_step-1):\n",
    "        a=dataset[i:(i+time_step),0]\n",
    "        datax.append(a)\n",
    "        datay.append(dataset[i+time_step,0])\n",
    "    return np.array(datax),np.array(datay)"
   ]
  },
  {
   "cell_type": "code",
   "execution_count": null,
   "id": "5494f715",
   "metadata": {},
   "outputs": [],
   "source": [
    "time_step=100\n",
    "x_train,y_train=create_dataset(train_data,time_step)\n",
    "x_test,y_test=create_dataset(test_data,time_step)"
   ]
  },
  {
   "cell_type": "code",
   "execution_count": null,
   "id": "e9905ef0",
   "metadata": {},
   "outputs": [],
   "source": [
    "(x_train.shape,y_train.shape)"
   ]
  },
  {
   "cell_type": "code",
   "execution_count": null,
   "id": "0c1b5d19",
   "metadata": {},
   "outputs": [],
   "source": [
    "x_train=x_train.reshape(x_train.shape[0],x_train.shape[1],1)\n",
    "x_test=x_test.reshape(x_test.shape[0],x_test.shape[1],1)"
   ]
  },
  {
   "cell_type": "code",
   "execution_count": null,
   "id": "051d777b",
   "metadata": {},
   "outputs": [],
   "source": []
  },
  {
   "cell_type": "code",
   "execution_count": null,
   "id": "fc79a344",
   "metadata": {},
   "outputs": [],
   "source": [
    "from tensorflow.keras.models import Sequential\n",
    "from tensorflow.keras.layers import Dense\n",
    "from tensorflow.keras.layers import LSTM"
   ]
  },
  {
   "cell_type": "code",
   "execution_count": null,
   "id": "d1a46393",
   "metadata": {},
   "outputs": [],
   "source": [
    "model=Sequential()\n",
    "model.add(LSTM(50,return_sequences=True,input_shape=(100,1)))\n",
    "model.add(LSTM(50,return_sequences=True))\n",
    "model.add(LSTM(50))\n",
    "model.add(Dense(1))"
   ]
  },
  {
   "cell_type": "code",
   "execution_count": null,
   "id": "71d98914",
   "metadata": {},
   "outputs": [],
   "source": [
    "model.compile(loss=\"mean_squared_error\",optimizer=\"adam\",metrics=[\"accuracy\"])"
   ]
  },
  {
   "cell_type": "code",
   "execution_count": null,
   "id": "d58ad9ff",
   "metadata": {},
   "outputs": [],
   "source": [
    "model.summary()"
   ]
  },
  {
   "cell_type": "code",
   "execution_count": null,
   "id": "25065343",
   "metadata": {},
   "outputs": [],
   "source": [
    "epochs=100\n",
    "batch_size=64\n",
    "model.fit(x_train,y_train,validation_data=(x_test,y_test),epochs=epochs,batch_size=batch_size,verbose=1)"
   ]
  },
  {
   "cell_type": "code",
   "execution_count": null,
   "id": "3ad84949",
   "metadata": {},
   "outputs": [],
   "source": [
    "train_predict=model.predict(x_train)\n",
    "test_predict=model.predict(x_test)"
   ]
  },
  {
   "cell_type": "code",
   "execution_count": null,
   "id": "d1395d56",
   "metadata": {},
   "outputs": [],
   "source": [
    "train_predict=scale.inverse_transform(train_predict)\n",
    "test_predict=scale.inverse_transform(test_predict)"
   ]
  },
  {
   "cell_type": "code",
   "execution_count": null,
   "id": "6140dd37",
   "metadata": {},
   "outputs": [],
   "source": [
    "import math\n",
    "from sklearn.metrics import mean_squared_error\n",
    "math.sqrt(mean_squared_error(y_train,train_predict))"
   ]
  },
  {
   "cell_type": "code",
   "execution_count": null,
   "id": "38e2ca3c",
   "metadata": {},
   "outputs": [],
   "source": [
    "math.sqrt(mean_squared_error(y_test,test_predict))"
   ]
  },
  {
   "cell_type": "code",
   "execution_count": null,
   "id": "9662b3b7",
   "metadata": {},
   "outputs": [],
   "source": [
    "len(test_data)"
   ]
  },
  {
   "cell_type": "code",
   "execution_count": null,
   "id": "ba346ac4",
   "metadata": {},
   "outputs": [],
   "source": [
    "x_input=test_data[278:].reshape(1,-1)\n",
    "x_input.shape"
   ]
  },
  {
   "cell_type": "code",
   "execution_count": null,
   "id": "777d3cfc",
   "metadata": {},
   "outputs": [],
   "source": [
    "temp_input=list(x_input)\n",
    "temp_input=temp_input[0].tolist()"
   ]
  },
  {
   "cell_type": "code",
   "execution_count": null,
   "id": "b6c2dc4f",
   "metadata": {},
   "outputs": [],
   "source": [
    "import array\n",
    "lst_output=[]\n",
    "n_steps=100\n",
    "i=0\n",
    "while(i<30):\n",
    "    if(len(temp_input)>100):\n",
    "        x_input=np.array(temp_input[1:])\n",
    "        print(\"{} day input {}\".format(i,x_input))\n",
    "        x_input=x_input.reshape(1,-1)\n",
    "        x_input=x_input.reshape(1,n_steps,1)\n",
    "        yhat=model.predict(x_input,verbose=0)\n",
    "        print(\"{} day output {}\".format(i,yhat))\n",
    "        temp_input.extend(yhat[0].tolist())\n",
    "        temp_input=temp_input[1:]\n",
    "        lst_output.extend(yhat.tolist())\n",
    "        i=i+1\n",
    "    else:\n",
    "        x_input=x_input.reshape((1,n_steps,1))\n",
    "        yhat=model.predict(x_input,verbose=0)\n",
    "        print(yhat[0])\n",
    "        temp_input.extend(yhat[0].tolist())\n",
    "        print(len(temp_input))\n",
    "        lst_output.extend(yhat.tolist())\n",
    "        i=i+1\n",
    "print(lst_output)"
   ]
  },
  {
   "cell_type": "code",
   "execution_count": null,
   "id": "1fc15a92",
   "metadata": {},
   "outputs": [],
   "source": [
    "day_new=np.arange(1,101)\n",
    "day_pred=np.arange(101,131)"
   ]
  },
  {
   "cell_type": "code",
   "execution_count": null,
   "id": "11879d64",
   "metadata": {},
   "outputs": [],
   "source": [
    "df2=df1.tolist()\n",
    "df2.extend(lst_output)"
   ]
  },
  {
   "cell_type": "code",
   "execution_count": null,
   "id": "69a23235",
   "metadata": {},
   "outputs": [],
   "source": [
    "len(df1)"
   ]
  },
  {
   "cell_type": "code",
   "execution_count": null,
   "id": "8629b50a",
   "metadata": {},
   "outputs": [],
   "source": [
    "plt.plot(day_new,scale.inverse_transform(df1[1159:]))\n",
    "plt.plot(day_pred,scale.inverse_transform(lst_output))"
   ]
  },
  {
   "cell_type": "code",
   "execution_count": null,
   "id": "5054b4dc",
   "metadata": {},
   "outputs": [],
   "source": [
    "df3=df1.tolist()\n",
    "df3.extend(lst_output)\n",
    "plt.plot(df3[1200:])"
   ]
  },
  {
   "cell_type": "code",
   "execution_count": null,
   "id": "ce3fb313",
   "metadata": {},
   "outputs": [],
   "source": []
  }
 ],
 "metadata": {
  "kernelspec": {
   "display_name": "Python 3",
   "language": "python",
   "name": "python3"
  },
  "language_info": {
   "codemirror_mode": {
    "name": "ipython",
    "version": 3
   },
   "file_extension": ".py",
   "mimetype": "text/x-python",
   "name": "python",
   "nbconvert_exporter": "python",
   "pygments_lexer": "ipython3",
   "version": "3.8.8"
  }
 },
 "nbformat": 4,
 "nbformat_minor": 5
}
