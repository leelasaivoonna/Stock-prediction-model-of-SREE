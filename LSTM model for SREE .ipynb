{
 "cells": [
  {
   "cell_type": "code",
   "execution_count": 3,
   "id": "82d37b6e",
   "metadata": {},
   "outputs": [],
   "source": [
    "import pandas as pd\n",
    "import numpy as np\n",
    "import matplotlib.pyplot as plt\n",
    "import seaborn as sns\n",
    "import matplotlib.pyplot as plt"
   ]
  },
  {
   "cell_type": "code",
   "execution_count": 4,
   "id": "f2e211c5",
   "metadata": {},
   "outputs": [],
   "source": [
    "data = pd.read_csv(\"SRE_data.csv\")"
   ]
  },
  {
   "cell_type": "code",
   "execution_count": 5,
   "id": "448fb5d6",
   "metadata": {},
   "outputs": [
    {
     "data": {
      "text/html": [
       "<div>\n",
       "<style scoped>\n",
       "    .dataframe tbody tr th:only-of-type {\n",
       "        vertical-align: middle;\n",
       "    }\n",
       "\n",
       "    .dataframe tbody tr th {\n",
       "        vertical-align: top;\n",
       "    }\n",
       "\n",
       "    .dataframe thead th {\n",
       "        text-align: right;\n",
       "    }\n",
       "</style>\n",
       "<table border=\"1\" class=\"dataframe\">\n",
       "  <thead>\n",
       "    <tr style=\"text-align: right;\">\n",
       "      <th></th>\n",
       "      <th>date</th>\n",
       "      <th>open</th>\n",
       "      <th>high</th>\n",
       "      <th>low</th>\n",
       "      <th>close</th>\n",
       "      <th>volume</th>\n",
       "      <th>Name</th>\n",
       "    </tr>\n",
       "  </thead>\n",
       "  <tbody>\n",
       "    <tr>\n",
       "      <th>0</th>\n",
       "      <td>2013-02-08</td>\n",
       "      <td>75.60</td>\n",
       "      <td>76.190</td>\n",
       "      <td>75.40</td>\n",
       "      <td>76.14</td>\n",
       "      <td>767226</td>\n",
       "      <td>SRE</td>\n",
       "    </tr>\n",
       "    <tr>\n",
       "      <th>1</th>\n",
       "      <td>2013-02-11</td>\n",
       "      <td>76.02</td>\n",
       "      <td>76.138</td>\n",
       "      <td>75.57</td>\n",
       "      <td>75.76</td>\n",
       "      <td>599953</td>\n",
       "      <td>SRE</td>\n",
       "    </tr>\n",
       "    <tr>\n",
       "      <th>2</th>\n",
       "      <td>2013-02-12</td>\n",
       "      <td>75.77</td>\n",
       "      <td>75.940</td>\n",
       "      <td>75.49</td>\n",
       "      <td>75.83</td>\n",
       "      <td>750838</td>\n",
       "      <td>SRE</td>\n",
       "    </tr>\n",
       "    <tr>\n",
       "      <th>3</th>\n",
       "      <td>2013-02-13</td>\n",
       "      <td>75.80</td>\n",
       "      <td>76.390</td>\n",
       "      <td>75.58</td>\n",
       "      <td>76.33</td>\n",
       "      <td>608662</td>\n",
       "      <td>SRE</td>\n",
       "    </tr>\n",
       "    <tr>\n",
       "      <th>4</th>\n",
       "      <td>2013-02-14</td>\n",
       "      <td>76.20</td>\n",
       "      <td>76.500</td>\n",
       "      <td>75.31</td>\n",
       "      <td>75.35</td>\n",
       "      <td>1248983</td>\n",
       "      <td>SRE</td>\n",
       "    </tr>\n",
       "  </tbody>\n",
       "</table>\n",
       "</div>"
      ],
      "text/plain": [
       "         date   open    high    low  close   volume Name\n",
       "0  2013-02-08  75.60  76.190  75.40  76.14   767226  SRE\n",
       "1  2013-02-11  76.02  76.138  75.57  75.76   599953  SRE\n",
       "2  2013-02-12  75.77  75.940  75.49  75.83   750838  SRE\n",
       "3  2013-02-13  75.80  76.390  75.58  76.33   608662  SRE\n",
       "4  2013-02-14  76.20  76.500  75.31  75.35  1248983  SRE"
      ]
     },
     "execution_count": 5,
     "metadata": {},
     "output_type": "execute_result"
    }
   ],
   "source": [
    "data.head()"
   ]
  },
  {
   "cell_type": "code",
   "execution_count": 6,
   "id": "feb013cd",
   "metadata": {},
   "outputs": [],
   "source": [
    "data.drop(\"Name\",axis=1,inplace=True)"
   ]
  },
  {
   "cell_type": "code",
   "execution_count": 7,
   "id": "23754c0a",
   "metadata": {},
   "outputs": [
    {
     "data": {
      "text/plain": [
       "(1259, 6)"
      ]
     },
     "execution_count": 7,
     "metadata": {},
     "output_type": "execute_result"
    }
   ],
   "source": [
    "data.shape"
   ]
  },
  {
   "cell_type": "code",
   "execution_count": 8,
   "id": "8cd9e650",
   "metadata": {},
   "outputs": [],
   "source": [
    "data_col=[\"open\",\"high\",\"low\",\"close\"]"
   ]
  },
  {
   "cell_type": "code",
   "execution_count": 9,
   "id": "f0f3ea52",
   "metadata": {},
   "outputs": [
    {
     "data": {
      "text/html": [
       "<div>\n",
       "<style scoped>\n",
       "    .dataframe tbody tr th:only-of-type {\n",
       "        vertical-align: middle;\n",
       "    }\n",
       "\n",
       "    .dataframe tbody tr th {\n",
       "        vertical-align: top;\n",
       "    }\n",
       "\n",
       "    .dataframe thead th {\n",
       "        text-align: right;\n",
       "    }\n",
       "</style>\n",
       "<table border=\"1\" class=\"dataframe\">\n",
       "  <thead>\n",
       "    <tr style=\"text-align: right;\">\n",
       "      <th></th>\n",
       "      <th>date</th>\n",
       "      <th>open</th>\n",
       "      <th>high</th>\n",
       "      <th>low</th>\n",
       "      <th>close</th>\n",
       "      <th>volume</th>\n",
       "    </tr>\n",
       "  </thead>\n",
       "  <tbody>\n",
       "    <tr>\n",
       "      <th>0</th>\n",
       "      <td>2013-02-08</td>\n",
       "      <td>75.60</td>\n",
       "      <td>76.190</td>\n",
       "      <td>75.40</td>\n",
       "      <td>76.14</td>\n",
       "      <td>767226</td>\n",
       "    </tr>\n",
       "    <tr>\n",
       "      <th>1</th>\n",
       "      <td>2013-02-11</td>\n",
       "      <td>76.02</td>\n",
       "      <td>76.138</td>\n",
       "      <td>75.57</td>\n",
       "      <td>75.76</td>\n",
       "      <td>599953</td>\n",
       "    </tr>\n",
       "    <tr>\n",
       "      <th>2</th>\n",
       "      <td>2013-02-12</td>\n",
       "      <td>75.77</td>\n",
       "      <td>75.940</td>\n",
       "      <td>75.49</td>\n",
       "      <td>75.83</td>\n",
       "      <td>750838</td>\n",
       "    </tr>\n",
       "    <tr>\n",
       "      <th>3</th>\n",
       "      <td>2013-02-13</td>\n",
       "      <td>75.80</td>\n",
       "      <td>76.390</td>\n",
       "      <td>75.58</td>\n",
       "      <td>76.33</td>\n",
       "      <td>608662</td>\n",
       "    </tr>\n",
       "    <tr>\n",
       "      <th>4</th>\n",
       "      <td>2013-02-14</td>\n",
       "      <td>76.20</td>\n",
       "      <td>76.500</td>\n",
       "      <td>75.31</td>\n",
       "      <td>75.35</td>\n",
       "      <td>1248983</td>\n",
       "    </tr>\n",
       "  </tbody>\n",
       "</table>\n",
       "</div>"
      ],
      "text/plain": [
       "         date   open    high    low  close   volume\n",
       "0  2013-02-08  75.60  76.190  75.40  76.14   767226\n",
       "1  2013-02-11  76.02  76.138  75.57  75.76   599953\n",
       "2  2013-02-12  75.77  75.940  75.49  75.83   750838\n",
       "3  2013-02-13  75.80  76.390  75.58  76.33   608662\n",
       "4  2013-02-14  76.20  76.500  75.31  75.35  1248983"
      ]
     },
     "execution_count": 9,
     "metadata": {},
     "output_type": "execute_result"
    }
   ],
   "source": [
    "data.head()"
   ]
  },
  {
   "cell_type": "code",
   "execution_count": 10,
   "id": "c095d860",
   "metadata": {},
   "outputs": [
    {
     "data": {
      "text/plain": [
       "date      0\n",
       "open      0\n",
       "high      0\n",
       "low       0\n",
       "close     0\n",
       "volume    0\n",
       "dtype: int64"
      ]
     },
     "execution_count": 10,
     "metadata": {},
     "output_type": "execute_result"
    }
   ],
   "source": [
    "data.isnull().sum()"
   ]
  },
  {
   "cell_type": "code",
   "execution_count": 11,
   "id": "0f92a477",
   "metadata": {},
   "outputs": [],
   "source": [
    "df=data.drop(\"date\",axis=1)"
   ]
  },
  {
   "cell_type": "code",
   "execution_count": 12,
   "id": "491549a5",
   "metadata": {},
   "outputs": [
    {
     "data": {
      "image/png": "[encoded data removed]",
      "text/plain": [
       "<Figure size 1000x600 with 4 Axes>"
      ]
     },
     "metadata": {
      "needs_background": "light"
     },
     "output_type": "display_data"
    }
   ],
   "source": [
    "fig,axes=plt.subplots(4,1,dpi=100,figsize=(10,6))\n",
    "for i,ax in enumerate(axes.flatten()):\n",
    "    dataa=df[df.columns[i]]\n",
    "    ax.plot(dataa,color=\"b\",linewidth=1)\n",
    "    ax.set_title(df.columns[i])\n",
    "    \n",
    "plt.tight_layout();"
   ]
  },
  {
   "cell_type": "code",
   "execution_count": 13,
   "id": "45ec8df0",
   "metadata": {},
   "outputs": [
    {
     "data": {
      "text/plain": [
       "<AxesSubplot:>"
      ]
     },
     "execution_count": 13,
     "metadata": {},
     "output_type": "execute_result"
    },
    {
     "data": {
      "image/png": "[encoded data removed]",
      "text/plain": [
       "<Figure size 432x288 with 2 Axes>"
      ]
     },
     "metadata": {
      "needs_background": "light"
     },
     "output_type": "display_data"
    }
   ],
   "source": [
    "sns.heatmap(data.corr())"
   ]
  },
  {
   "cell_type": "code",
   "execution_count": 14,
   "id": "e874011a",
   "metadata": {},
   "outputs": [],
   "source": [
    "df=data.reset_index()[\"close\"]"
   ]
  },
  {
   "cell_type": "code",
   "execution_count": 15,
   "id": "c6a918ea",
   "metadata": {},
   "outputs": [],
   "source": [
    "from sklearn.preprocessing import MinMaxScaler\n",
    "scale=MinMaxScaler(feature_range=(0,1))\n",
    "df1=scale.fit_transform(np.array(df).reshape(-1,1))"
   ]
  },
  {
   "cell_type": "code",
   "execution_count": 16,
   "id": "b3c61499",
   "metadata": {},
   "outputs": [],
   "source": [
    "train_data=int(len(df1)*0.70)\n",
    "test_data=len(df1)-train_data\n",
    "train_data=df1[:-test_data]\n",
    "test_data=df1[-test_data:]"
   ]
  },
  {
   "cell_type": "code",
   "execution_count": 17,
   "id": "0d3ab2e4",
   "metadata": {},
   "outputs": [],
   "source": [
    "def create_dataset(dataset,time_step=1):\n",
    "    datax,datay=[],[]\n",
    "    for i in range(len(dataset)-time_step-1):\n",
    "        a=dataset[i:(i+time_step),0]\n",
    "        datax.append(a)\n",
    "        datay.append(dataset[i+time_step,0])\n",
    "    return np.array(datax),np.array(datay)"
   ]
  },
  {
   "cell_type": "code",
   "execution_count": 18,
   "id": "5494f715",
   "metadata": {},
   "outputs": [],
   "source": [
    "time_step=100\n",
    "x_train,y_train=create_dataset(train_data,time_step)\n",
    "x_test,y_test=create_dataset(test_data,time_step)"
   ]
  },
  {
   "cell_type": "code",
   "execution_count": 19,
   "id": "e9905ef0",
   "metadata": {},
   "outputs": [
    {
     "data": {
      "text/plain": [
       "((780, 100), (780,))"
      ]
     },
     "execution_count": 19,
     "metadata": {},
     "output_type": "execute_result"
    }
   ],
   "source": [
    "(x_train.shape,y_train.shape)"
   ]
  },
  {
   "cell_type": "code",
   "execution_count": 20,
   "id": "0c1b5d19",
   "metadata": {},
   "outputs": [],
   "source": [
    "x_train=x_train.reshape(x_train.shape[0],x_train.shape[1],1)\n",
    "x_test=x_test.reshape(x_test.shape[0],x_test.shape[1],1)"
   ]
  },
  {
   "cell_type": "code",
   "execution_count": 21,
   "id": "051d777b",
   "metadata": {},
   "outputs": [
    {
     "name": "stdout",
     "output_type": "stream",
     "text": [
      "Requirement already satisfied: Tensorflow in d:\\anaconda\\anaconda real\\lib\\site-packages (2.6.0)\n",
      "Requirement already satisfied: opt-einsum~=3.3.0 in d:\\anaconda\\anaconda real\\lib\\site-packages (from Tensorflow) (3.3.0)\n",
      "Requirement already satisfied: termcolor~=1.1.0 in d:\\anaconda\\anaconda real\\lib\\site-packages (from Tensorflow) (1.1.0)\n",
      "Requirement already satisfied: astunparse~=1.6.3 in d:\\anaconda\\anaconda real\\lib\\site-packages (from Tensorflow) (1.6.3)\n",
      "Requirement already satisfied: numpy~=1.19.2 in d:\\anaconda\\anaconda real\\lib\\site-packages (from Tensorflow) (1.19.5)\n",
      "Requirement already satisfied: tensorboard~=2.6 in d:\\anaconda\\anaconda real\\lib\\site-packages (from Tensorflow) (2.6.0)\n",
      "Requirement already satisfied: absl-py~=0.10 in d:\\anaconda\\anaconda real\\lib\\site-packages (from Tensorflow) (0.13.0)\n",
      "Requirement already satisfied: six~=1.15.0 in d:\\anaconda\\anaconda real\\lib\\site-packages (from Tensorflow) (1.15.0)\n",
      "Requirement already satisfied: wrapt~=1.12.1 in d:\\anaconda\\anaconda real\\lib\\site-packages (from Tensorflow) (1.12.1)\n",
      "Requirement already satisfied: clang~=5.0 in d:\\anaconda\\anaconda real\\lib\\site-packages (from Tensorflow) (5.0)\n",
      "Requirement already satisfied: tensorflow-estimator~=2.6 in d:\\anaconda\\anaconda real\\lib\\site-packages (from Tensorflow) (2.6.0)\n",
      "Requirement already satisfied: wheel~=0.35 in d:\\anaconda\\anaconda real\\lib\\site-packages (from Tensorflow) (0.36.2)\n",
      "Requirement already satisfied: gast==0.4.0 in d:\\anaconda\\anaconda real\\lib\\site-packages (from Tensorflow) (0.4.0)\n",
      "Requirement already satisfied: keras-preprocessing~=1.1.2 in d:\\anaconda\\anaconda real\\lib\\site-packages (from Tensorflow) (1.1.2)\n",
      "Requirement already satisfied: protobuf>=3.9.2 in d:\\anaconda\\anaconda real\\lib\\site-packages (from Tensorflow) (3.17.3)\n",
      "Requirement already satisfied: grpcio<2.0,>=1.37.0 in d:\\anaconda\\anaconda real\\lib\\site-packages (from Tensorflow) (1.39.0)\n",
      "Requirement already satisfied: flatbuffers~=1.12.0 in d:\\anaconda\\anaconda real\\lib\\site-packages (from Tensorflow) (1.12)\n",
      "Requirement already satisfied: h5py~=3.1.0 in d:\\anaconda\\anaconda real\\lib\\site-packages (from Tensorflow) (3.1.0)\n",
      "Requirement already satisfied: typing-extensions~=3.7.4 in d:\\anaconda\\anaconda real\\lib\\site-packages (from Tensorflow) (3.7.4.3)\n",
      "Requirement already satisfied: google-pasta~=0.2 in d:\\anaconda\\anaconda real\\lib\\site-packages (from Tensorflow) (0.2.0)\n",
      "Requirement already satisfied: keras~=2.6 in d:\\anaconda\\anaconda real\\lib\\site-packages (from Tensorflow) (2.6.0)\n",
      "Requirement already satisfied: google-auth<2,>=1.6.3 in d:\\anaconda\\anaconda real\\lib\\site-packages (from tensorboard~=2.6->Tensorflow) (1.35.0)\n",
      "Requirement already satisfied: werkzeug>=0.11.15 in d:\\anaconda\\anaconda real\\lib\\site-packages (from tensorboard~=2.6->Tensorflow) (1.0.1)\n",
      "Requirement already satisfied: requests<3,>=2.21.0 in d:\\anaconda\\anaconda real\\lib\\site-packages (from tensorboard~=2.6->Tensorflow) (2.25.1)\n",
      "Requirement already satisfied: tensorboard-plugin-wit>=1.6.0 in d:\\anaconda\\anaconda real\\lib\\site-packages (from tensorboard~=2.6->Tensorflow) (1.8.0)\n",
      "Requirement already satisfied: google-auth-oauthlib<0.5,>=0.4.1 in d:\\anaconda\\anaconda real\\lib\\site-packages (from tensorboard~=2.6->Tensorflow) (0.4.5)\n",
      "Requirement already satisfied: tensorboard-data-server<0.7.0,>=0.6.0 in d:\\anaconda\\anaconda real\\lib\\site-packages (from tensorboard~=2.6->Tensorflow) (0.6.1)\n",
      "Requirement already satisfied: setuptools>=41.0.0 in d:\\anaconda\\anaconda real\\lib\\site-packages (from tensorboard~=2.6->Tensorflow) (52.0.0.post20210125)\n",
      "Requirement already satisfied: markdown>=2.6.8 in d:\\anaconda\\anaconda real\\lib\\site-packages (from tensorboard~=2.6->Tensorflow) (3.3.4)\n",
      "Requirement already satisfied: cachetools<5.0,>=2.0.0 in d:\\anaconda\\anaconda real\\lib\\site-packages (from google-auth<2,>=1.6.3->tensorboard~=2.6->Tensorflow) (4.2.2)\n",
      "Requirement already satisfied: rsa<5,>=3.1.4 in d:\\anaconda\\anaconda real\\lib\\site-packages (from google-auth<2,>=1.6.3->tensorboard~=2.6->Tensorflow) (4.7.2)\n",
      "Requirement already satisfied: pyasn1-modules>=0.2.1 in d:\\anaconda\\anaconda real\\lib\\site-packages (from google-auth<2,>=1.6.3->tensorboard~=2.6->Tensorflow) (0.2.8)\n",
      "Requirement already satisfied: requests-oauthlib>=0.7.0 in d:\\anaconda\\anaconda real\\lib\\site-packages (from google-auth-oauthlib<0.5,>=0.4.1->tensorboard~=2.6->Tensorflow) (1.3.0)\n",
      "Requirement already satisfied: pyasn1<0.5.0,>=0.4.6 in d:\\anaconda\\anaconda real\\lib\\site-packages (from pyasn1-modules>=0.2.1->google-auth<2,>=1.6.3->tensorboard~=2.6->Tensorflow) (0.4.8)\n",
      "Requirement already satisfied: chardet<5,>=3.0.2 in d:\\anaconda\\anaconda real\\lib\\site-packages (from requests<3,>=2.21.0->tensorboard~=2.6->Tensorflow) (4.0.0)\n",
      "Requirement already satisfied: urllib3<1.27,>=1.21.1 in d:\\anaconda\\anaconda real\\lib\\site-packages (from requests<3,>=2.21.0->tensorboard~=2.6->Tensorflow) (1.26.4)\n",
      "Requirement already satisfied: certifi>=2017.4.17 in d:\\anaconda\\anaconda real\\lib\\site-packages (from requests<3,>=2.21.0->tensorboard~=2.6->Tensorflow) (2020.12.5)\n",
      "Requirement already satisfied: idna<3,>=2.5 in d:\\anaconda\\anaconda real\\lib\\site-packages (from requests<3,>=2.21.0->tensorboard~=2.6->Tensorflow) (2.10)\n",
      "Requirement already satisfied: oauthlib>=3.0.0 in d:\\anaconda\\anaconda real\\lib\\site-packages (from requests-oauthlib>=0.7.0->google-auth-oauthlib<0.5,>=0.4.1->tensorboard~=2.6->Tensorflow) (3.1.1)\n"
     ]
    }
   ],
   "source": []
  },
  {
   "cell_type": "code",
   "execution_count": 22,
   "id": "fc79a344",
   "metadata": {},
   "outputs": [],
   "source": [
    "from tensorflow.keras.models import Sequential\n",
    "from tensorflow.keras.layers import Dense\n",
    "from tensorflow.keras.layers import LSTM"
   ]
  },
  {
   "cell_type": "code",
   "execution_count": 23,
   "id": "d1a46393",
   "metadata": {},
   "outputs": [],
   "source": [
    "model=Sequential()\n",
    "model.add(LSTM(50,return_sequences=True,input_shape=(100,1)))\n",
    "model.add(LSTM(50,return_sequences=True))\n",
    "model.add(LSTM(50))\n",
    "model.add(Dense(1))"
   ]
  },
  {
   "cell_type": "code",
   "execution_count": 24,
   "id": "71d98914",
   "metadata": {},
   "outputs": [],
   "source": [
    "model.compile(loss=\"mean_squared_error\",optimizer=\"adam\",metrics=[\"accuracy\"])"
   ]
  },
  {
   "cell_type": "code",
   "execution_count": 25,
   "id": "d58ad9ff",
   "metadata": {},
   "outputs": [
    {
     "name": "stdout",
     "output_type": "stream",
     "text": [
      "Model: \"sequential\"\n",
      "_________________________________________________________________\n",
      "Layer (type)                 Output Shape              Param #   \n",
      "=================================================================\n",
      "lstm (LSTM)                  (None, 100, 50)           10400     \n",
      "_________________________________________________________________\n",
      "lstm_1 (LSTM)                (None, 100, 50)           20200     \n",
      "_________________________________________________________________\n",
      "lstm_2 (LSTM)                (None, 50)                20200     \n",
      "_________________________________________________________________\n",
      "dense (Dense)                (None, 1)                 51        \n",
      "=================================================================\n",
      "Total params: 50,851\n",
      "Trainable params: 50,851\n",
      "Non-trainable params: 0\n",
      "_________________________________________________________________\n"
     ]
    }
   ],
   "source": [
    "model.summary()"
   ]
  },
  {
   "cell_type": "code",
   "execution_count": 26,
   "id": "25065343",
   "metadata": {},
   "outputs": [
    {
     "name": "stdout",
     "output_type": "stream",
     "text": [
      "Epoch 1/100\n",
      "13/13 [==============================] - 18s 506ms/step - loss: 0.0898 - accuracy: 0.0000e+00 - val_loss: 0.0534 - val_accuracy: 0.0036\n",
      "Epoch 2/100\n",
      "13/13 [==============================] - 4s 332ms/step - loss: 0.0158 - accuracy: 0.0000e+00 - val_loss: 0.0046 - val_accuracy: 0.0036\n",
      "Epoch 3/100\n",
      "13/13 [==============================] - 4s 335ms/step - loss: 0.0085 - accuracy: 0.0000e+00 - val_loss: 0.0119 - val_accuracy: 0.0036\n",
      "Epoch 4/100\n",
      "13/13 [==============================] - 4s 334ms/step - loss: 0.0057 - accuracy: 0.0000e+00 - val_loss: 0.0126 - val_accuracy: 0.0036\n",
      "Epoch 5/100\n",
      "13/13 [==============================] - 4s 326ms/step - loss: 0.0045 - accuracy: 0.0000e+00 - val_loss: 0.0049 - val_accuracy: 0.0036\n",
      "Epoch 6/100\n",
      "13/13 [==============================] - 4s 323ms/step - loss: 0.0039 - accuracy: 0.0000e+00 - val_loss: 0.0037 - val_accuracy: 0.0036\n",
      "Epoch 7/100\n",
      "13/13 [==============================] - 4s 328ms/step - loss: 0.0035 - accuracy: 0.0000e+00 - val_loss: 0.0039 - val_accuracy: 0.0036\n",
      "Epoch 8/100\n",
      "13/13 [==============================] - 4s 324ms/step - loss: 0.0034 - accuracy: 0.0000e+00 - val_loss: 0.0038 - val_accuracy: 0.0036\n",
      "Epoch 9/100\n",
      "13/13 [==============================] - 4s 309ms/step - loss: 0.0034 - accuracy: 0.0000e+00 - val_loss: 0.0035 - val_accuracy: 0.0036\n",
      "Epoch 10/100\n",
      "13/13 [==============================] - 4s 300ms/step - loss: 0.0033 - accuracy: 0.0000e+00 - val_loss: 0.0040 - val_accuracy: 0.0036\n",
      "Epoch 11/100\n",
      "13/13 [==============================] - 4s 306ms/step - loss: 0.0033 - accuracy: 0.0000e+00 - val_loss: 0.0033 - val_accuracy: 0.0036\n",
      "Epoch 12/100\n",
      "13/13 [==============================] - 4s 301ms/step - loss: 0.0032 - accuracy: 0.0000e+00 - val_loss: 0.0033 - val_accuracy: 0.0036\n",
      "Epoch 13/100\n",
      "13/13 [==============================] - 4s 308ms/step - loss: 0.0031 - accuracy: 0.0000e+00 - val_loss: 0.0031 - val_accuracy: 0.0036\n",
      "Epoch 14/100\n",
      "13/13 [==============================] - 4s 305ms/step - loss: 0.0030 - accuracy: 0.0000e+00 - val_loss: 0.0034 - val_accuracy: 0.0036\n",
      "Epoch 15/100\n",
      "13/13 [==============================] - 4s 309ms/step - loss: 0.0030 - accuracy: 0.0000e+00 - val_loss: 0.0028 - val_accuracy: 0.0036\n",
      "Epoch 16/100\n",
      "13/13 [==============================] - 4s 306ms/step - loss: 0.0031 - accuracy: 0.0000e+00 - val_loss: 0.0043 - val_accuracy: 0.0036\n",
      "Epoch 17/100\n",
      "13/13 [==============================] - 4s 312ms/step - loss: 0.0030 - accuracy: 0.0000e+00 - val_loss: 0.0029 - val_accuracy: 0.0036\n",
      "Epoch 18/100\n",
      "13/13 [==============================] - 4s 311ms/step - loss: 0.0027 - accuracy: 0.0000e+00 - val_loss: 0.0025 - val_accuracy: 0.0036\n",
      "Epoch 19/100\n",
      "13/13 [==============================] - 4s 308ms/step - loss: 0.0028 - accuracy: 0.0000e+00 - val_loss: 0.0037 - val_accuracy: 0.0036\n",
      "Epoch 20/100\n",
      "13/13 [==============================] - 4s 300ms/step - loss: 0.0028 - accuracy: 0.0000e+00 - val_loss: 0.0026 - val_accuracy: 0.0036\n",
      "Epoch 21/100\n",
      "13/13 [==============================] - 4s 302ms/step - loss: 0.0029 - accuracy: 0.0000e+00 - val_loss: 0.0022 - val_accuracy: 0.0036\n",
      "Epoch 22/100\n",
      "13/13 [==============================] - 4s 273ms/step - loss: 0.0026 - accuracy: 0.0000e+00 - val_loss: 0.0021 - val_accuracy: 0.0036\n",
      "Epoch 23/100\n",
      "13/13 [==============================] - 4s 311ms/step - loss: 0.0025 - accuracy: 0.0000e+00 - val_loss: 0.0021 - val_accuracy: 0.0036\n",
      "Epoch 24/100\n",
      "13/13 [==============================] - 4s 307ms/step - loss: 0.0024 - accuracy: 0.0000e+00 - val_loss: 0.0025 - val_accuracy: 0.0036\n",
      "Epoch 25/100\n",
      "13/13 [==============================] - 4s 308ms/step - loss: 0.0027 - accuracy: 0.0000e+00 - val_loss: 0.0022 - val_accuracy: 0.0036\n",
      "Epoch 26/100\n",
      "13/13 [==============================] - 4s 307ms/step - loss: 0.0024 - accuracy: 0.0000e+00 - val_loss: 0.0018 - val_accuracy: 0.0036\n",
      "Epoch 27/100\n",
      "13/13 [==============================] - 4s 301ms/step - loss: 0.0023 - accuracy: 0.0000e+00 - val_loss: 0.0017 - val_accuracy: 0.0036\n",
      "Epoch 28/100\n",
      "13/13 [==============================] - 4s 300ms/step - loss: 0.0023 - accuracy: 0.0000e+00 - val_loss: 0.0017 - val_accuracy: 0.0036\n",
      "Epoch 29/100\n",
      "13/13 [==============================] - 4s 306ms/step - loss: 0.0024 - accuracy: 0.0000e+00 - val_loss: 0.0018 - val_accuracy: 0.0036\n",
      "Epoch 30/100\n",
      "13/13 [==============================] - 4s 307ms/step - loss: 0.0024 - accuracy: 0.0000e+00 - val_loss: 0.0022 - val_accuracy: 0.0036\n",
      "Epoch 31/100\n",
      "13/13 [==============================] - 4s 305ms/step - loss: 0.0022 - accuracy: 0.0000e+00 - val_loss: 0.0017 - val_accuracy: 0.0036\n",
      "Epoch 32/100\n",
      "13/13 [==============================] - 4s 307ms/step - loss: 0.0024 - accuracy: 0.0000e+00 - val_loss: 0.0020 - val_accuracy: 0.0036\n",
      "Epoch 33/100\n",
      "13/13 [==============================] - 4s 305ms/step - loss: 0.0021 - accuracy: 0.0000e+00 - val_loss: 0.0016 - val_accuracy: 0.0036\n",
      "Epoch 34/100\n",
      "13/13 [==============================] - 4s 309ms/step - loss: 0.0021 - accuracy: 0.0000e+00 - val_loss: 0.0020 - val_accuracy: 0.0036\n",
      "Epoch 35/100\n",
      "13/13 [==============================] - 4s 293ms/step - loss: 0.0021 - accuracy: 0.0000e+00 - val_loss: 0.0019 - val_accuracy: 0.0036\n",
      "Epoch 36/100\n",
      "13/13 [==============================] - 4s 296ms/step - loss: 0.0021 - accuracy: 0.0000e+00 - val_loss: 0.0013 - val_accuracy: 0.0036\n",
      "Epoch 37/100\n",
      "13/13 [==============================] - 4s 312ms/step - loss: 0.0020 - accuracy: 0.0000e+00 - val_loss: 0.0015 - val_accuracy: 0.0036\n",
      "Epoch 38/100\n",
      "13/13 [==============================] - 4s 312ms/step - loss: 0.0019 - accuracy: 0.0000e+00 - val_loss: 0.0027 - val_accuracy: 0.0036\n",
      "Epoch 39/100\n",
      "13/13 [==============================] - 4s 310ms/step - loss: 0.0022 - accuracy: 0.0000e+00 - val_loss: 0.0013 - val_accuracy: 0.0036\n",
      "Epoch 40/100\n",
      "13/13 [==============================] - 4s 310ms/step - loss: 0.0018 - accuracy: 0.0000e+00 - val_loss: 0.0015 - val_accuracy: 0.0036\n",
      "Epoch 41/100\n",
      "13/13 [==============================] - 4s 311ms/step - loss: 0.0018 - accuracy: 0.0000e+00 - val_loss: 0.0015 - val_accuracy: 0.0036\n",
      "Epoch 42/100\n",
      "13/13 [==============================] - 4s 310ms/step - loss: 0.0018 - accuracy: 0.0000e+00 - val_loss: 0.0021 - val_accuracy: 0.0036\n",
      "Epoch 43/100\n",
      "13/13 [==============================] - 4s 299ms/step - loss: 0.0021 - accuracy: 0.0000e+00 - val_loss: 0.0012 - val_accuracy: 0.0036\n",
      "Epoch 44/100\n",
      "13/13 [==============================] - 4s 311ms/step - loss: 0.0017 - accuracy: 0.0000e+00 - val_loss: 0.0018 - val_accuracy: 0.0036\n",
      "Epoch 45/100\n",
      "13/13 [==============================] - 4s 303ms/step - loss: 0.0017 - accuracy: 0.0000e+00 - val_loss: 0.0012 - val_accuracy: 0.0036\n",
      "Epoch 46/100\n",
      "13/13 [==============================] - 4s 310ms/step - loss: 0.0017 - accuracy: 0.0000e+00 - val_loss: 0.0020 - val_accuracy: 0.0036\n",
      "Epoch 47/100\n",
      "13/13 [==============================] - 4s 310ms/step - loss: 0.0020 - accuracy: 0.0000e+00 - val_loss: 0.0053 - val_accuracy: 0.0036\n",
      "Epoch 48/100\n",
      "13/13 [==============================] - 4s 310ms/step - loss: 0.0023 - accuracy: 0.0000e+00 - val_loss: 0.0012 - val_accuracy: 0.0036\n",
      "Epoch 49/100\n",
      "13/13 [==============================] - 4s 288ms/step - loss: 0.0019 - accuracy: 0.0000e+00 - val_loss: 0.0015 - val_accuracy: 0.0036\n",
      "Epoch 50/100\n",
      "13/13 [==============================] - 4s 310ms/step - loss: 0.0018 - accuracy: 0.0000e+00 - val_loss: 0.0023 - val_accuracy: 0.0036\n",
      "Epoch 51/100\n",
      "13/13 [==============================] - 4s 305ms/step - loss: 0.0016 - accuracy: 0.0000e+00 - val_loss: 0.0011 - val_accuracy: 0.0036\n",
      "Epoch 52/100\n",
      "13/13 [==============================] - 4s 312ms/step - loss: 0.0015 - accuracy: 0.0000e+00 - val_loss: 0.0010 - val_accuracy: 0.0036\n",
      "Epoch 53/100\n",
      "13/13 [==============================] - 4s 311ms/step - loss: 0.0015 - accuracy: 0.0000e+00 - val_loss: 0.0010 - val_accuracy: 0.0036\n",
      "Epoch 54/100\n",
      "13/13 [==============================] - 4s 272ms/step - loss: 0.0014 - accuracy: 0.0000e+00 - val_loss: 0.0012 - val_accuracy: 0.0036\n",
      "Epoch 55/100\n",
      "13/13 [==============================] - 4s 314ms/step - loss: 0.0013 - accuracy: 0.0000e+00 - val_loss: 0.0010 - val_accuracy: 0.0036\n",
      "Epoch 56/100\n"
     ]
    },
    {
     "name": "stdout",
     "output_type": "stream",
     "text": [
      "13/13 [==============================] - 4s 313ms/step - loss: 0.0014 - accuracy: 0.0000e+00 - val_loss: 0.0013 - val_accuracy: 0.0036\n",
      "Epoch 57/100\n",
      "13/13 [==============================] - 4s 309ms/step - loss: 0.0013 - accuracy: 0.0000e+00 - val_loss: 0.0012 - val_accuracy: 0.0036\n",
      "Epoch 58/100\n",
      "13/13 [==============================] - 4s 302ms/step - loss: 0.0012 - accuracy: 0.0000e+00 - val_loss: 0.0012 - val_accuracy: 0.0036\n",
      "Epoch 59/100\n",
      "13/13 [==============================] - 4s 308ms/step - loss: 0.0014 - accuracy: 0.0000e+00 - val_loss: 0.0023 - val_accuracy: 0.0036\n",
      "Epoch 60/100\n",
      "13/13 [==============================] - 4s 309ms/step - loss: 0.0013 - accuracy: 0.0000e+00 - val_loss: 8.8629e-04 - val_accuracy: 0.0036\n",
      "Epoch 61/100\n",
      "13/13 [==============================] - 4s 314ms/step - loss: 0.0011 - accuracy: 0.0000e+00 - val_loss: 0.0010 - val_accuracy: 0.0036\n",
      "Epoch 62/100\n",
      "13/13 [==============================] - 4s 312ms/step - loss: 0.0012 - accuracy: 0.0000e+00 - val_loss: 0.0014 - val_accuracy: 0.0036\n",
      "Epoch 63/100\n",
      "13/13 [==============================] - 4s 273ms/step - loss: 0.0011 - accuracy: 0.0000e+00 - val_loss: 0.0016 - val_accuracy: 0.0036\n",
      "Epoch 64/100\n",
      "13/13 [==============================] - 4s 286ms/step - loss: 0.0012 - accuracy: 0.0000e+00 - val_loss: 0.0010 - val_accuracy: 0.0036\n",
      "Epoch 65/100\n",
      "13/13 [==============================] - 4s 306ms/step - loss: 0.0011 - accuracy: 0.0000e+00 - val_loss: 0.0020 - val_accuracy: 0.0036\n",
      "Epoch 66/100\n",
      "13/13 [==============================] - 4s 289ms/step - loss: 0.0012 - accuracy: 0.0000e+00 - val_loss: 0.0011 - val_accuracy: 0.0036\n",
      "Epoch 67/100\n",
      "13/13 [==============================] - 4s 307ms/step - loss: 0.0011 - accuracy: 0.0000e+00 - val_loss: 0.0013 - val_accuracy: 0.0036\n",
      "Epoch 68/100\n",
      "13/13 [==============================] - 4s 309ms/step - loss: 0.0011 - accuracy: 0.0000e+00 - val_loss: 0.0011 - val_accuracy: 0.0036\n",
      "Epoch 69/100\n",
      "13/13 [==============================] - 4s 308ms/step - loss: 0.0011 - accuracy: 0.0000e+00 - val_loss: 7.4642e-04 - val_accuracy: 0.0036\n",
      "Epoch 70/100\n",
      "13/13 [==============================] - 4s 309ms/step - loss: 9.8822e-04 - accuracy: 0.0000e+00 - val_loss: 9.5499e-04 - val_accuracy: 0.0036\n",
      "Epoch 71/100\n",
      "13/13 [==============================] - 4s 308ms/step - loss: 9.6059e-04 - accuracy: 0.0000e+00 - val_loss: 0.0012 - val_accuracy: 0.0036\n",
      "Epoch 72/100\n",
      "13/13 [==============================] - 4s 310ms/step - loss: 0.0011 - accuracy: 0.0000e+00 - val_loss: 8.1776e-04 - val_accuracy: 0.0036\n",
      "Epoch 73/100\n",
      "13/13 [==============================] - 4s 310ms/step - loss: 9.2179e-04 - accuracy: 0.0000e+00 - val_loss: 7.2116e-04 - val_accuracy: 0.0036\n",
      "Epoch 74/100\n",
      "13/13 [==============================] - 4s 304ms/step - loss: 9.3098e-04 - accuracy: 0.0000e+00 - val_loss: 0.0036 - val_accuracy: 0.0036\n",
      "Epoch 75/100\n",
      "13/13 [==============================] - 4s 278ms/step - loss: 0.0014 - accuracy: 0.0000e+00 - val_loss: 0.0013 - val_accuracy: 0.0036\n",
      "Epoch 76/100\n",
      "13/13 [==============================] - 4s 308ms/step - loss: 9.7318e-04 - accuracy: 0.0000e+00 - val_loss: 0.0016 - val_accuracy: 0.0036\n",
      "Epoch 77/100\n",
      "13/13 [==============================] - 4s 303ms/step - loss: 9.5253e-04 - accuracy: 0.0000e+00 - val_loss: 6.7202e-04 - val_accuracy: 0.0036\n",
      "Epoch 78/100\n",
      "13/13 [==============================] - 4s 309ms/step - loss: 8.9133e-04 - accuracy: 0.0000e+00 - val_loss: 7.4312e-04 - val_accuracy: 0.0036\n",
      "Epoch 79/100\n",
      "13/13 [==============================] - 4s 307ms/step - loss: 8.6099e-04 - accuracy: 0.0000e+00 - val_loss: 0.0012 - val_accuracy: 0.0036\n",
      "Epoch 80/100\n",
      "13/13 [==============================] - 4s 304ms/step - loss: 0.0010 - accuracy: 0.0000e+00 - val_loss: 0.0013 - val_accuracy: 0.0036\n",
      "Epoch 81/100\n",
      "13/13 [==============================] - 4s 306ms/step - loss: 9.5434e-04 - accuracy: 0.0000e+00 - val_loss: 0.0015 - val_accuracy: 0.0036\n",
      "Epoch 82/100\n",
      "13/13 [==============================] - 4s 306ms/step - loss: 9.4336e-04 - accuracy: 0.0000e+00 - val_loss: 0.0012 - val_accuracy: 0.0036\n",
      "Epoch 83/100\n",
      "13/13 [==============================] - 4s 302ms/step - loss: 9.2488e-04 - accuracy: 0.0000e+00 - val_loss: 0.0015 - val_accuracy: 0.0036\n",
      "Epoch 84/100\n",
      "13/13 [==============================] - 4s 306ms/step - loss: 9.8438e-04 - accuracy: 0.0000e+00 - val_loss: 0.0014 - val_accuracy: 0.0036\n",
      "Epoch 85/100\n",
      "13/13 [==============================] - 4s 306ms/step - loss: 9.3569e-04 - accuracy: 0.0000e+00 - val_loss: 6.7722e-04 - val_accuracy: 0.0036\n",
      "Epoch 86/100\n",
      "13/13 [==============================] - 4s 307ms/step - loss: 9.2481e-04 - accuracy: 0.0000e+00 - val_loss: 6.9468e-04 - val_accuracy: 0.0036\n",
      "Epoch 87/100\n",
      "13/13 [==============================] - 4s 301ms/step - loss: 8.6781e-04 - accuracy: 0.0000e+00 - val_loss: 0.0014 - val_accuracy: 0.0036\n",
      "Epoch 88/100\n",
      "13/13 [==============================] - 4s 307ms/step - loss: 9.1050e-04 - accuracy: 0.0000e+00 - val_loss: 0.0013 - val_accuracy: 0.0036\n",
      "Epoch 89/100\n",
      "13/13 [==============================] - 4s 299ms/step - loss: 8.0978e-04 - accuracy: 0.0000e+00 - val_loss: 6.2083e-04 - val_accuracy: 0.0036\n",
      "Epoch 90/100\n",
      "13/13 [==============================] - 4s 304ms/step - loss: 7.8402e-04 - accuracy: 0.0000e+00 - val_loss: 5.9386e-04 - val_accuracy: 0.0036\n",
      "Epoch 91/100\n",
      "13/13 [==============================] - 4s 303ms/step - loss: 7.9800e-04 - accuracy: 0.0000e+00 - val_loss: 5.7846e-04 - val_accuracy: 0.0036\n",
      "Epoch 92/100\n",
      "13/13 [==============================] - 4s 302ms/step - loss: 8.6676e-04 - accuracy: 0.0000e+00 - val_loss: 5.8462e-04 - val_accuracy: 0.0036\n",
      "Epoch 93/100\n",
      "13/13 [==============================] - 4s 303ms/step - loss: 7.6564e-04 - accuracy: 0.0000e+00 - val_loss: 5.9942e-04 - val_accuracy: 0.0036\n",
      "Epoch 94/100\n",
      "13/13 [==============================] - 4s 303ms/step - loss: 7.7965e-04 - accuracy: 0.0000e+00 - val_loss: 5.8647e-04 - val_accuracy: 0.0036\n",
      "Epoch 95/100\n",
      "13/13 [==============================] - 4s 302ms/step - loss: 7.4676e-04 - accuracy: 0.0000e+00 - val_loss: 5.7774e-04 - val_accuracy: 0.0036\n",
      "Epoch 96/100\n",
      "13/13 [==============================] - 4s 303ms/step - loss: 7.6126e-04 - accuracy: 0.0000e+00 - val_loss: 5.6747e-04 - val_accuracy: 0.0036\n",
      "Epoch 97/100\n",
      "13/13 [==============================] - 4s 283ms/step - loss: 7.7270e-04 - accuracy: 0.0000e+00 - val_loss: 9.7767e-04 - val_accuracy: 0.0036\n",
      "Epoch 98/100\n",
      "13/13 [==============================] - 4s 301ms/step - loss: 7.7719e-04 - accuracy: 0.0000e+00 - val_loss: 5.8018e-04 - val_accuracy: 0.0036\n",
      "Epoch 99/100\n",
      "13/13 [==============================] - 4s 303ms/step - loss: 7.4144e-04 - accuracy: 0.0000e+00 - val_loss: 6.4898e-04 - val_accuracy: 0.0036\n",
      "Epoch 100/100\n",
      "13/13 [==============================] - 4s 304ms/step - loss: 7.8366e-04 - accuracy: 0.0000e+00 - val_loss: 0.0010 - val_accuracy: 0.0036\n"
     ]
    },
    {
     "data": {
      "text/plain": [
       "<keras.callbacks.History at 0x28569c2c490>"
      ]
     },
     "execution_count": 26,
     "metadata": {},
     "output_type": "execute_result"
    }
   ],
   "source": [
    "epochs=100\n",
    "batch_size=64\n",
    "model.fit(x_train,y_train,validation_data=(x_test,y_test),epochs=epochs,batch_size=batch_size,verbose=1)"
   ]
  },
  {
   "cell_type": "code",
   "execution_count": 27,
   "id": "3ad84949",
   "metadata": {},
   "outputs": [],
   "source": [
    "train_predict=model.predict(x_train)\n",
    "test_predict=model.predict(x_test)"
   ]
  },
  {
   "cell_type": "code",
   "execution_count": 28,
   "id": "d1395d56",
   "metadata": {},
   "outputs": [],
   "source": [
    "train_predict=scale.inverse_transform(train_predict)\n",
    "test_predict=scale.inverse_transform(test_predict)"
   ]
  },
  {
   "cell_type": "code",
   "execution_count": 35,
   "id": "6140dd37",
   "metadata": {},
   "outputs": [
    {
     "data": {
      "text/plain": [
       "99.16274457018568"
      ]
     },
     "execution_count": 35,
     "metadata": {},
     "output_type": "execute_result"
    }
   ],
   "source": [
    "import math\n",
    "from sklearn.metrics import mean_squared_error\n",
    "math.sqrt(mean_squared_error(y_train,train_predict))"
   ]
  },
  {
   "cell_type": "code",
   "execution_count": 30,
   "id": "38e2ca3c",
   "metadata": {},
   "outputs": [
    {
     "data": {
      "text/plain": [
       "110.44984883199301"
      ]
     },
     "execution_count": 30,
     "metadata": {},
     "output_type": "execute_result"
    }
   ],
   "source": [
    "math.sqrt(mean_squared_error(y_test,test_predict))"
   ]
  },
  {
   "cell_type": "code",
   "execution_count": 36,
   "id": "dbfbfdad",
   "metadata": {},
   "outputs": [
    {
     "data": {
      "image/png": "[encoded data removed]",
      "text/plain": [
       "<Figure size 432x288 with 1 Axes>"
      ]
     },
     "metadata": {
      "needs_background": "light"
     },
     "output_type": "display_data"
    }
   ],
   "source": [
    "look_back=100\n",
    "trainPredictPlot=np.empty_like(df1)\n",
    "trainPredictPlot[:,:]=np.nan\n",
    "trainPredictPlot[look_back:len(train_predict)+look_back,:]=train_predict\n",
    "testPredictPlot=np.empty_like(df1)\n",
    "testPredictPlot[:,:]=np.empty_like(df1)\n",
    "testPredictPlot[len(train_predict)+(look_back*2)+1:len(df1)-1]=test_predict\n",
    "plt.plot(scale.inverse_transform(df1))\n",
    "plt.plot(trainPredictPlot)\n",
    "plt.plot(testPredictPlot)\n",
    "plt.show()                                                       "
   ]
  },
  {
   "cell_type": "code",
   "execution_count": 37,
   "id": "9662b3b7",
   "metadata": {},
   "outputs": [
    {
     "data": {
      "text/plain": [
       "378"
      ]
     },
     "execution_count": 37,
     "metadata": {},
     "output_type": "execute_result"
    }
   ],
   "source": [
    "len(test_data)"
   ]
  },
  {
   "cell_type": "code",
   "execution_count": 38,
   "id": "ba346ac4",
   "metadata": {},
   "outputs": [
    {
     "data": {
      "text/plain": [
       "(1, 100)"
      ]
     },
     "execution_count": 38,
     "metadata": {},
     "output_type": "execute_result"
    }
   ],
   "source": [
    "x_input=test_data[278:].reshape(1,-1)\n",
    "x_input.shape"
   ]
  },
  {
   "cell_type": "code",
   "execution_count": 39,
   "id": "777d3cfc",
   "metadata": {},
   "outputs": [],
   "source": [
    "temp_input=list(x_input)\n",
    "temp_input=temp_input[0].tolist()"
   ]
  },
  {
   "cell_type": "code",
   "execution_count": 40,
   "id": "b6c2dc4f",
   "metadata": {},
   "outputs": [
    {
     "name": "stdout",
     "output_type": "stream",
     "text": [
      "[0.59023273]\n",
      "101\n",
      "1 day input [0.90251706 0.90081058 0.87947952 0.86518771 0.86582765 0.88587884\n",
      " 0.87265358 0.83511092 0.83681741 0.82721843 0.82401877 0.82167235\n",
      " 0.83639078 0.7822099  0.78071672 0.79522184 0.82039249 0.84449659\n",
      " 0.86625427 0.84300341 0.83425768 0.82529863 0.80418089 0.82636519\n",
      " 0.82721843 0.83361775 0.84492321 0.83169795 0.84812287 0.85942833\n",
      " 0.89803754 0.8991041  0.88054608 0.90571672 0.93067406 0.92832765\n",
      " 0.96352389 0.97440273 0.9818686  0.97653584 0.99424061 1.\n",
      " 0.96117747 0.94944539 0.94197952 0.92683447 0.92726109 0.92384812\n",
      " 0.92470137 0.94027304 0.9434727  0.95797782 0.97354949 0.96267065\n",
      " 0.96288396 0.87180034 0.87372014 0.87627986 0.88182594 0.91040956\n",
      " 0.83916382 0.8508959  0.86241468 0.87841297 0.84726962 0.78583618\n",
      " 0.7802901  0.67320819 0.70307167 0.69517918 0.69283276 0.67683447\n",
      " 0.6734215  0.63993174 0.69944539 0.68408703 0.70605802 0.70669795\n",
      " 0.68835324 0.67918089 0.66872867 0.67278157 0.67640785 0.66638225\n",
      " 0.65422355 0.65358362 0.63353242 0.65848976 0.64697099 0.66232935\n",
      " 0.64377133 0.62073379 0.65017065 0.67555461 0.66510239 0.64483788\n",
      " 0.61646758 0.59833618 0.61305461 0.59023273]\n",
      "1 day output [[0.5880893]]\n",
      "2 day input [0.90081058 0.87947952 0.86518771 0.86582765 0.88587884 0.87265358\n",
      " 0.83511092 0.83681741 0.82721843 0.82401877 0.82167235 0.83639078\n",
      " 0.7822099  0.78071672 0.79522184 0.82039249 0.84449659 0.86625427\n",
      " 0.84300341 0.83425768 0.82529863 0.80418089 0.82636519 0.82721843\n",
      " 0.83361775 0.84492321 0.83169795 0.84812287 0.85942833 0.89803754\n",
      " 0.8991041  0.88054608 0.90571672 0.93067406 0.92832765 0.96352389\n",
      " 0.97440273 0.9818686  0.97653584 0.99424061 1.         0.96117747\n",
      " 0.94944539 0.94197952 0.92683447 0.92726109 0.92384812 0.92470137\n",
      " 0.94027304 0.9434727  0.95797782 0.97354949 0.96267065 0.96288396\n",
      " 0.87180034 0.87372014 0.87627986 0.88182594 0.91040956 0.83916382\n",
      " 0.8508959  0.86241468 0.87841297 0.84726962 0.78583618 0.7802901\n",
      " 0.67320819 0.70307167 0.69517918 0.69283276 0.67683447 0.6734215\n",
      " 0.63993174 0.69944539 0.68408703 0.70605802 0.70669795 0.68835324\n",
      " 0.67918089 0.66872867 0.67278157 0.67640785 0.66638225 0.65422355\n",
      " 0.65358362 0.63353242 0.65848976 0.64697099 0.66232935 0.64377133\n",
      " 0.62073379 0.65017065 0.67555461 0.66510239 0.64483788 0.61646758\n",
      " 0.59833618 0.61305461 0.59023273 0.58808929]\n",
      "2 day output [[0.5852732]]\n",
      "3 day input [0.87947952 0.86518771 0.86582765 0.88587884 0.87265358 0.83511092\n",
      " 0.83681741 0.82721843 0.82401877 0.82167235 0.83639078 0.7822099\n",
      " 0.78071672 0.79522184 0.82039249 0.84449659 0.86625427 0.84300341\n",
      " 0.83425768 0.82529863 0.80418089 0.82636519 0.82721843 0.83361775\n",
      " 0.84492321 0.83169795 0.84812287 0.85942833 0.89803754 0.8991041\n",
      " 0.88054608 0.90571672 0.93067406 0.92832765 0.96352389 0.97440273\n",
      " 0.9818686  0.97653584 0.99424061 1.         0.96117747 0.94944539\n",
      " 0.94197952 0.92683447 0.92726109 0.92384812 0.92470137 0.94027304\n",
      " 0.9434727  0.95797782 0.97354949 0.96267065 0.96288396 0.87180034\n",
      " 0.87372014 0.87627986 0.88182594 0.91040956 0.83916382 0.8508959\n",
      " 0.86241468 0.87841297 0.84726962 0.78583618 0.7802901  0.67320819\n",
      " 0.70307167 0.69517918 0.69283276 0.67683447 0.6734215  0.63993174\n",
      " 0.69944539 0.68408703 0.70605802 0.70669795 0.68835324 0.67918089\n",
      " 0.66872867 0.67278157 0.67640785 0.66638225 0.65422355 0.65358362\n",
      " 0.63353242 0.65848976 0.64697099 0.66232935 0.64377133 0.62073379\n",
      " 0.65017065 0.67555461 0.66510239 0.64483788 0.61646758 0.59833618\n",
      " 0.61305461 0.59023273 0.58808929 0.58527321]\n",
      "3 day output [[0.5816088]]\n",
      "4 day input [0.86518771 0.86582765 0.88587884 0.87265358 0.83511092 0.83681741\n",
      " 0.82721843 0.82401877 0.82167235 0.83639078 0.7822099  0.78071672\n",
      " 0.79522184 0.82039249 0.84449659 0.86625427 0.84300341 0.83425768\n",
      " 0.82529863 0.80418089 0.82636519 0.82721843 0.83361775 0.84492321\n",
      " 0.83169795 0.84812287 0.85942833 0.89803754 0.8991041  0.88054608\n",
      " 0.90571672 0.93067406 0.92832765 0.96352389 0.97440273 0.9818686\n",
      " 0.97653584 0.99424061 1.         0.96117747 0.94944539 0.94197952\n",
      " 0.92683447 0.92726109 0.92384812 0.92470137 0.94027304 0.9434727\n",
      " 0.95797782 0.97354949 0.96267065 0.96288396 0.87180034 0.87372014\n",
      " 0.87627986 0.88182594 0.91040956 0.83916382 0.8508959  0.86241468\n",
      " 0.87841297 0.84726962 0.78583618 0.7802901  0.67320819 0.70307167\n",
      " 0.69517918 0.69283276 0.67683447 0.6734215  0.63993174 0.69944539\n",
      " 0.68408703 0.70605802 0.70669795 0.68835324 0.67918089 0.66872867\n",
      " 0.67278157 0.67640785 0.66638225 0.65422355 0.65358362 0.63353242\n",
      " 0.65848976 0.64697099 0.66232935 0.64377133 0.62073379 0.65017065\n",
      " 0.67555461 0.66510239 0.64483788 0.61646758 0.59833618 0.61305461\n",
      " 0.59023273 0.58808929 0.58527321 0.58160877]\n",
      "4 day output [[0.5774276]]\n",
      "5 day input [0.86582765 0.88587884 0.87265358 0.83511092 0.83681741 0.82721843\n",
      " 0.82401877 0.82167235 0.83639078 0.7822099  0.78071672 0.79522184\n",
      " 0.82039249 0.84449659 0.86625427 0.84300341 0.83425768 0.82529863\n",
      " 0.80418089 0.82636519 0.82721843 0.83361775 0.84492321 0.83169795\n",
      " 0.84812287 0.85942833 0.89803754 0.8991041  0.88054608 0.90571672\n",
      " 0.93067406 0.92832765 0.96352389 0.97440273 0.9818686  0.97653584\n",
      " 0.99424061 1.         0.96117747 0.94944539 0.94197952 0.92683447\n",
      " 0.92726109 0.92384812 0.92470137 0.94027304 0.9434727  0.95797782\n",
      " 0.97354949 0.96267065 0.96288396 0.87180034 0.87372014 0.87627986\n",
      " 0.88182594 0.91040956 0.83916382 0.8508959  0.86241468 0.87841297\n",
      " 0.84726962 0.78583618 0.7802901  0.67320819 0.70307167 0.69517918\n",
      " 0.69283276 0.67683447 0.6734215  0.63993174 0.69944539 0.68408703\n",
      " 0.70605802 0.70669795 0.68835324 0.67918089 0.66872867 0.67278157\n",
      " 0.67640785 0.66638225 0.65422355 0.65358362 0.63353242 0.65848976\n",
      " 0.64697099 0.66232935 0.64377133 0.62073379 0.65017065 0.67555461\n",
      " 0.66510239 0.64483788 0.61646758 0.59833618 0.61305461 0.59023273\n",
      " 0.58808929 0.58527321 0.58160877 0.57742763]\n",
      "5 day output [[0.57294846]]\n",
      "6 day input [0.88587884 0.87265358 0.83511092 0.83681741 0.82721843 0.82401877\n",
      " 0.82167235 0.83639078 0.7822099  0.78071672 0.79522184 0.82039249\n",
      " 0.84449659 0.86625427 0.84300341 0.83425768 0.82529863 0.80418089\n",
      " 0.82636519 0.82721843 0.83361775 0.84492321 0.83169795 0.84812287\n",
      " 0.85942833 0.89803754 0.8991041  0.88054608 0.90571672 0.93067406\n",
      " 0.92832765 0.96352389 0.97440273 0.9818686  0.97653584 0.99424061\n",
      " 1.         0.96117747 0.94944539 0.94197952 0.92683447 0.92726109\n",
      " 0.92384812 0.92470137 0.94027304 0.9434727  0.95797782 0.97354949\n",
      " 0.96267065 0.96288396 0.87180034 0.87372014 0.87627986 0.88182594\n",
      " 0.91040956 0.83916382 0.8508959  0.86241468 0.87841297 0.84726962\n",
      " 0.78583618 0.7802901  0.67320819 0.70307167 0.69517918 0.69283276\n",
      " 0.67683447 0.6734215  0.63993174 0.69944539 0.68408703 0.70605802\n",
      " 0.70669795 0.68835324 0.67918089 0.66872867 0.67278157 0.67640785\n",
      " 0.66638225 0.65422355 0.65358362 0.63353242 0.65848976 0.64697099\n",
      " 0.66232935 0.64377133 0.62073379 0.65017065 0.67555461 0.66510239\n",
      " 0.64483788 0.61646758 0.59833618 0.61305461 0.59023273 0.58808929\n",
      " 0.58527321 0.58160877 0.57742763 0.57294846]\n",
      "6 day output [[0.5682575]]\n",
      "7 day input [0.87265358 0.83511092 0.83681741 0.82721843 0.82401877 0.82167235\n",
      " 0.83639078 0.7822099  0.78071672 0.79522184 0.82039249 0.84449659\n",
      " 0.86625427 0.84300341 0.83425768 0.82529863 0.80418089 0.82636519\n",
      " 0.82721843 0.83361775 0.84492321 0.83169795 0.84812287 0.85942833\n",
      " 0.89803754 0.8991041  0.88054608 0.90571672 0.93067406 0.92832765\n",
      " 0.96352389 0.97440273 0.9818686  0.97653584 0.99424061 1.\n",
      " 0.96117747 0.94944539 0.94197952 0.92683447 0.92726109 0.92384812\n",
      " 0.92470137 0.94027304 0.9434727  0.95797782 0.97354949 0.96267065\n",
      " 0.96288396 0.87180034 0.87372014 0.87627986 0.88182594 0.91040956\n",
      " 0.83916382 0.8508959  0.86241468 0.87841297 0.84726962 0.78583618\n",
      " 0.7802901  0.67320819 0.70307167 0.69517918 0.69283276 0.67683447\n",
      " 0.6734215  0.63993174 0.69944539 0.68408703 0.70605802 0.70669795\n",
      " 0.68835324 0.67918089 0.66872867 0.67278157 0.67640785 0.66638225\n",
      " 0.65422355 0.65358362 0.63353242 0.65848976 0.64697099 0.66232935\n",
      " 0.64377133 0.62073379 0.65017065 0.67555461 0.66510239 0.64483788\n",
      " 0.61646758 0.59833618 0.61305461 0.59023273 0.58808929 0.58527321\n",
      " 0.58160877 0.57742763 0.57294846 0.56825751]\n",
      "7 day output [[0.563388]]\n",
      "8 day input [0.83511092 0.83681741 0.82721843 0.82401877 0.82167235 0.83639078\n",
      " 0.7822099  0.78071672 0.79522184 0.82039249 0.84449659 0.86625427\n",
      " 0.84300341 0.83425768 0.82529863 0.80418089 0.82636519 0.82721843\n",
      " 0.83361775 0.84492321 0.83169795 0.84812287 0.85942833 0.89803754\n",
      " 0.8991041  0.88054608 0.90571672 0.93067406 0.92832765 0.96352389\n",
      " 0.97440273 0.9818686  0.97653584 0.99424061 1.         0.96117747\n",
      " 0.94944539 0.94197952 0.92683447 0.92726109 0.92384812 0.92470137\n",
      " 0.94027304 0.9434727  0.95797782 0.97354949 0.96267065 0.96288396\n",
      " 0.87180034 0.87372014 0.87627986 0.88182594 0.91040956 0.83916382\n",
      " 0.8508959  0.86241468 0.87841297 0.84726962 0.78583618 0.7802901\n",
      " 0.67320819 0.70307167 0.69517918 0.69283276 0.67683447 0.6734215\n",
      " 0.63993174 0.69944539 0.68408703 0.70605802 0.70669795 0.68835324\n",
      " 0.67918089 0.66872867 0.67278157 0.67640785 0.66638225 0.65422355\n",
      " 0.65358362 0.63353242 0.65848976 0.64697099 0.66232935 0.64377133\n",
      " 0.62073379 0.65017065 0.67555461 0.66510239 0.64483788 0.61646758\n",
      " 0.59833618 0.61305461 0.59023273 0.58808929 0.58527321 0.58160877\n",
      " 0.57742763 0.57294846 0.56825751 0.56338799]\n",
      "8 day output [[0.55836755]]\n",
      "9 day input [0.83681741 0.82721843 0.82401877 0.82167235 0.83639078 0.7822099\n",
      " 0.78071672 0.79522184 0.82039249 0.84449659 0.86625427 0.84300341\n",
      " 0.83425768 0.82529863 0.80418089 0.82636519 0.82721843 0.83361775\n",
      " 0.84492321 0.83169795 0.84812287 0.85942833 0.89803754 0.8991041\n",
      " 0.88054608 0.90571672 0.93067406 0.92832765 0.96352389 0.97440273\n",
      " 0.9818686  0.97653584 0.99424061 1.         0.96117747 0.94944539\n",
      " 0.94197952 0.92683447 0.92726109 0.92384812 0.92470137 0.94027304\n",
      " 0.9434727  0.95797782 0.97354949 0.96267065 0.96288396 0.87180034\n",
      " 0.87372014 0.87627986 0.88182594 0.91040956 0.83916382 0.8508959\n",
      " 0.86241468 0.87841297 0.84726962 0.78583618 0.7802901  0.67320819\n",
      " 0.70307167 0.69517918 0.69283276 0.67683447 0.6734215  0.63993174\n",
      " 0.69944539 0.68408703 0.70605802 0.70669795 0.68835324 0.67918089\n",
      " 0.66872867 0.67278157 0.67640785 0.66638225 0.65422355 0.65358362\n",
      " 0.63353242 0.65848976 0.64697099 0.66232935 0.64377133 0.62073379\n",
      " 0.65017065 0.67555461 0.66510239 0.64483788 0.61646758 0.59833618\n",
      " 0.61305461 0.59023273 0.58808929 0.58527321 0.58160877 0.57742763\n",
      " 0.57294846 0.56825751 0.56338799 0.55836755]\n",
      "9 day output [[0.55323434]]\n",
      "10 day input [0.82721843 0.82401877 0.82167235 0.83639078 0.7822099  0.78071672\n",
      " 0.79522184 0.82039249 0.84449659 0.86625427 0.84300341 0.83425768\n",
      " 0.82529863 0.80418089 0.82636519 0.82721843 0.83361775 0.84492321\n",
      " 0.83169795 0.84812287 0.85942833 0.89803754 0.8991041  0.88054608\n",
      " 0.90571672 0.93067406 0.92832765 0.96352389 0.97440273 0.9818686\n",
      " 0.97653584 0.99424061 1.         0.96117747 0.94944539 0.94197952\n",
      " 0.92683447 0.92726109 0.92384812 0.92470137 0.94027304 0.9434727\n",
      " 0.95797782 0.97354949 0.96267065 0.96288396 0.87180034 0.87372014\n",
      " 0.87627986 0.88182594 0.91040956 0.83916382 0.8508959  0.86241468\n",
      " 0.87841297 0.84726962 0.78583618 0.7802901  0.67320819 0.70307167\n",
      " 0.69517918 0.69283276 0.67683447 0.6734215  0.63993174 0.69944539\n",
      " 0.68408703 0.70605802 0.70669795 0.68835324 0.67918089 0.66872867\n",
      " 0.67278157 0.67640785 0.66638225 0.65422355 0.65358362 0.63353242\n",
      " 0.65848976 0.64697099 0.66232935 0.64377133 0.62073379 0.65017065\n",
      " 0.67555461 0.66510239 0.64483788 0.61646758 0.59833618 0.61305461\n",
      " 0.59023273 0.58808929 0.58527321 0.58160877 0.57742763 0.57294846\n"
     ]
    },
    {
     "name": "stdout",
     "output_type": "stream",
     "text": [
      " 0.56825751 0.56338799 0.55836755 0.55323434]\n",
      "10 day output [[0.54803467]]\n",
      "11 day input [0.82401877 0.82167235 0.83639078 0.7822099  0.78071672 0.79522184\n",
      " 0.82039249 0.84449659 0.86625427 0.84300341 0.83425768 0.82529863\n",
      " 0.80418089 0.82636519 0.82721843 0.83361775 0.84492321 0.83169795\n",
      " 0.84812287 0.85942833 0.89803754 0.8991041  0.88054608 0.90571672\n",
      " 0.93067406 0.92832765 0.96352389 0.97440273 0.9818686  0.97653584\n",
      " 0.99424061 1.         0.96117747 0.94944539 0.94197952 0.92683447\n",
      " 0.92726109 0.92384812 0.92470137 0.94027304 0.9434727  0.95797782\n",
      " 0.97354949 0.96267065 0.96288396 0.87180034 0.87372014 0.87627986\n",
      " 0.88182594 0.91040956 0.83916382 0.8508959  0.86241468 0.87841297\n",
      " 0.84726962 0.78583618 0.7802901  0.67320819 0.70307167 0.69517918\n",
      " 0.69283276 0.67683447 0.6734215  0.63993174 0.69944539 0.68408703\n",
      " 0.70605802 0.70669795 0.68835324 0.67918089 0.66872867 0.67278157\n",
      " 0.67640785 0.66638225 0.65422355 0.65358362 0.63353242 0.65848976\n",
      " 0.64697099 0.66232935 0.64377133 0.62073379 0.65017065 0.67555461\n",
      " 0.66510239 0.64483788 0.61646758 0.59833618 0.61305461 0.59023273\n",
      " 0.58808929 0.58527321 0.58160877 0.57742763 0.57294846 0.56825751\n",
      " 0.56338799 0.55836755 0.55323434 0.54803467]\n",
      "11 day output [[0.54281706]]\n",
      "12 day input [0.82167235 0.83639078 0.7822099  0.78071672 0.79522184 0.82039249\n",
      " 0.84449659 0.86625427 0.84300341 0.83425768 0.82529863 0.80418089\n",
      " 0.82636519 0.82721843 0.83361775 0.84492321 0.83169795 0.84812287\n",
      " 0.85942833 0.89803754 0.8991041  0.88054608 0.90571672 0.93067406\n",
      " 0.92832765 0.96352389 0.97440273 0.9818686  0.97653584 0.99424061\n",
      " 1.         0.96117747 0.94944539 0.94197952 0.92683447 0.92726109\n",
      " 0.92384812 0.92470137 0.94027304 0.9434727  0.95797782 0.97354949\n",
      " 0.96267065 0.96288396 0.87180034 0.87372014 0.87627986 0.88182594\n",
      " 0.91040956 0.83916382 0.8508959  0.86241468 0.87841297 0.84726962\n",
      " 0.78583618 0.7802901  0.67320819 0.70307167 0.69517918 0.69283276\n",
      " 0.67683447 0.6734215  0.63993174 0.69944539 0.68408703 0.70605802\n",
      " 0.70669795 0.68835324 0.67918089 0.66872867 0.67278157 0.67640785\n",
      " 0.66638225 0.65422355 0.65358362 0.63353242 0.65848976 0.64697099\n",
      " 0.66232935 0.64377133 0.62073379 0.65017065 0.67555461 0.66510239\n",
      " 0.64483788 0.61646758 0.59833618 0.61305461 0.59023273 0.58808929\n",
      " 0.58527321 0.58160877 0.57742763 0.57294846 0.56825751 0.56338799\n",
      " 0.55836755 0.55323434 0.54803467 0.54281706]\n",
      "12 day output [[0.5376262]]\n",
      "13 day input [0.83639078 0.7822099  0.78071672 0.79522184 0.82039249 0.84449659\n",
      " 0.86625427 0.84300341 0.83425768 0.82529863 0.80418089 0.82636519\n",
      " 0.82721843 0.83361775 0.84492321 0.83169795 0.84812287 0.85942833\n",
      " 0.89803754 0.8991041  0.88054608 0.90571672 0.93067406 0.92832765\n",
      " 0.96352389 0.97440273 0.9818686  0.97653584 0.99424061 1.\n",
      " 0.96117747 0.94944539 0.94197952 0.92683447 0.92726109 0.92384812\n",
      " 0.92470137 0.94027304 0.9434727  0.95797782 0.97354949 0.96267065\n",
      " 0.96288396 0.87180034 0.87372014 0.87627986 0.88182594 0.91040956\n",
      " 0.83916382 0.8508959  0.86241468 0.87841297 0.84726962 0.78583618\n",
      " 0.7802901  0.67320819 0.70307167 0.69517918 0.69283276 0.67683447\n",
      " 0.6734215  0.63993174 0.69944539 0.68408703 0.70605802 0.70669795\n",
      " 0.68835324 0.67918089 0.66872867 0.67278157 0.67640785 0.66638225\n",
      " 0.65422355 0.65358362 0.63353242 0.65848976 0.64697099 0.66232935\n",
      " 0.64377133 0.62073379 0.65017065 0.67555461 0.66510239 0.64483788\n",
      " 0.61646758 0.59833618 0.61305461 0.59023273 0.58808929 0.58527321\n",
      " 0.58160877 0.57742763 0.57294846 0.56825751 0.56338799 0.55836755\n",
      " 0.55323434 0.54803467 0.54281706 0.53762621]\n",
      "13 day output [[0.5324997]]\n",
      "14 day input [0.7822099  0.78071672 0.79522184 0.82039249 0.84449659 0.86625427\n",
      " 0.84300341 0.83425768 0.82529863 0.80418089 0.82636519 0.82721843\n",
      " 0.83361775 0.84492321 0.83169795 0.84812287 0.85942833 0.89803754\n",
      " 0.8991041  0.88054608 0.90571672 0.93067406 0.92832765 0.96352389\n",
      " 0.97440273 0.9818686  0.97653584 0.99424061 1.         0.96117747\n",
      " 0.94944539 0.94197952 0.92683447 0.92726109 0.92384812 0.92470137\n",
      " 0.94027304 0.9434727  0.95797782 0.97354949 0.96267065 0.96288396\n",
      " 0.87180034 0.87372014 0.87627986 0.88182594 0.91040956 0.83916382\n",
      " 0.8508959  0.86241468 0.87841297 0.84726962 0.78583618 0.7802901\n",
      " 0.67320819 0.70307167 0.69517918 0.69283276 0.67683447 0.6734215\n",
      " 0.63993174 0.69944539 0.68408703 0.70605802 0.70669795 0.68835324\n",
      " 0.67918089 0.66872867 0.67278157 0.67640785 0.66638225 0.65422355\n",
      " 0.65358362 0.63353242 0.65848976 0.64697099 0.66232935 0.64377133\n",
      " 0.62073379 0.65017065 0.67555461 0.66510239 0.64483788 0.61646758\n",
      " 0.59833618 0.61305461 0.59023273 0.58808929 0.58527321 0.58160877\n",
      " 0.57742763 0.57294846 0.56825751 0.56338799 0.55836755 0.55323434\n",
      " 0.54803467 0.54281706 0.53762621 0.53249967]\n",
      "14 day output [[0.52746636]]\n",
      "15 day input [0.78071672 0.79522184 0.82039249 0.84449659 0.86625427 0.84300341\n",
      " 0.83425768 0.82529863 0.80418089 0.82636519 0.82721843 0.83361775\n",
      " 0.84492321 0.83169795 0.84812287 0.85942833 0.89803754 0.8991041\n",
      " 0.88054608 0.90571672 0.93067406 0.92832765 0.96352389 0.97440273\n",
      " 0.9818686  0.97653584 0.99424061 1.         0.96117747 0.94944539\n",
      " 0.94197952 0.92683447 0.92726109 0.92384812 0.92470137 0.94027304\n",
      " 0.9434727  0.95797782 0.97354949 0.96267065 0.96288396 0.87180034\n",
      " 0.87372014 0.87627986 0.88182594 0.91040956 0.83916382 0.8508959\n",
      " 0.86241468 0.87841297 0.84726962 0.78583618 0.7802901  0.67320819\n",
      " 0.70307167 0.69517918 0.69283276 0.67683447 0.6734215  0.63993174\n",
      " 0.69944539 0.68408703 0.70605802 0.70669795 0.68835324 0.67918089\n",
      " 0.66872867 0.67278157 0.67640785 0.66638225 0.65422355 0.65358362\n",
      " 0.63353242 0.65848976 0.64697099 0.66232935 0.64377133 0.62073379\n",
      " 0.65017065 0.67555461 0.66510239 0.64483788 0.61646758 0.59833618\n",
      " 0.61305461 0.59023273 0.58808929 0.58527321 0.58160877 0.57742763\n",
      " 0.57294846 0.56825751 0.56338799 0.55836755 0.55323434 0.54803467\n",
      " 0.54281706 0.53762621 0.53249967 0.52746636]\n",
      "15 day output [[0.5225462]]\n",
      "16 day input [0.79522184 0.82039249 0.84449659 0.86625427 0.84300341 0.83425768\n",
      " 0.82529863 0.80418089 0.82636519 0.82721843 0.83361775 0.84492321\n",
      " 0.83169795 0.84812287 0.85942833 0.89803754 0.8991041  0.88054608\n",
      " 0.90571672 0.93067406 0.92832765 0.96352389 0.97440273 0.9818686\n",
      " 0.97653584 0.99424061 1.         0.96117747 0.94944539 0.94197952\n",
      " 0.92683447 0.92726109 0.92384812 0.92470137 0.94027304 0.9434727\n",
      " 0.95797782 0.97354949 0.96267065 0.96288396 0.87180034 0.87372014\n",
      " 0.87627986 0.88182594 0.91040956 0.83916382 0.8508959  0.86241468\n",
      " 0.87841297 0.84726962 0.78583618 0.7802901  0.67320819 0.70307167\n",
      " 0.69517918 0.69283276 0.67683447 0.6734215  0.63993174 0.69944539\n",
      " 0.68408703 0.70605802 0.70669795 0.68835324 0.67918089 0.66872867\n",
      " 0.67278157 0.67640785 0.66638225 0.65422355 0.65358362 0.63353242\n",
      " 0.65848976 0.64697099 0.66232935 0.64377133 0.62073379 0.65017065\n",
      " 0.67555461 0.66510239 0.64483788 0.61646758 0.59833618 0.61305461\n",
      " 0.59023273 0.58808929 0.58527321 0.58160877 0.57742763 0.57294846\n",
      " 0.56825751 0.56338799 0.55836755 0.55323434 0.54803467 0.54281706\n",
      " 0.53762621 0.53249967 0.52746636 0.52254617]\n",
      "16 day output [[0.5177514]]\n",
      "17 day input [0.82039249 0.84449659 0.86625427 0.84300341 0.83425768 0.82529863\n",
      " 0.80418089 0.82636519 0.82721843 0.83361775 0.84492321 0.83169795\n",
      " 0.84812287 0.85942833 0.89803754 0.8991041  0.88054608 0.90571672\n",
      " 0.93067406 0.92832765 0.96352389 0.97440273 0.9818686  0.97653584\n",
      " 0.99424061 1.         0.96117747 0.94944539 0.94197952 0.92683447\n",
      " 0.92726109 0.92384812 0.92470137 0.94027304 0.9434727  0.95797782\n",
      " 0.97354949 0.96267065 0.96288396 0.87180034 0.87372014 0.87627986\n",
      " 0.88182594 0.91040956 0.83916382 0.8508959  0.86241468 0.87841297\n",
      " 0.84726962 0.78583618 0.7802901  0.67320819 0.70307167 0.69517918\n",
      " 0.69283276 0.67683447 0.6734215  0.63993174 0.69944539 0.68408703\n",
      " 0.70605802 0.70669795 0.68835324 0.67918089 0.66872867 0.67278157\n",
      " 0.67640785 0.66638225 0.65422355 0.65358362 0.63353242 0.65848976\n",
      " 0.64697099 0.66232935 0.64377133 0.62073379 0.65017065 0.67555461\n",
      " 0.66510239 0.64483788 0.61646758 0.59833618 0.61305461 0.59023273\n",
      " 0.58808929 0.58527321 0.58160877 0.57742763 0.57294846 0.56825751\n",
      " 0.56338799 0.55836755 0.55323434 0.54803467 0.54281706 0.53762621\n",
      " 0.53249967 0.52746636 0.52254617 0.5177514 ]\n",
      "17 day output [[0.51308775]]\n",
      "18 day input [0.84449659 0.86625427 0.84300341 0.83425768 0.82529863 0.80418089\n",
      " 0.82636519 0.82721843 0.83361775 0.84492321 0.83169795 0.84812287\n",
      " 0.85942833 0.89803754 0.8991041  0.88054608 0.90571672 0.93067406\n",
      " 0.92832765 0.96352389 0.97440273 0.9818686  0.97653584 0.99424061\n",
      " 1.         0.96117747 0.94944539 0.94197952 0.92683447 0.92726109\n",
      " 0.92384812 0.92470137 0.94027304 0.9434727  0.95797782 0.97354949\n",
      " 0.96267065 0.96288396 0.87180034 0.87372014 0.87627986 0.88182594\n",
      " 0.91040956 0.83916382 0.8508959  0.86241468 0.87841297 0.84726962\n",
      " 0.78583618 0.7802901  0.67320819 0.70307167 0.69517918 0.69283276\n",
      " 0.67683447 0.6734215  0.63993174 0.69944539 0.68408703 0.70605802\n",
      " 0.70669795 0.68835324 0.67918089 0.66872867 0.67278157 0.67640785\n",
      " 0.66638225 0.65422355 0.65358362 0.63353242 0.65848976 0.64697099\n",
      " 0.66232935 0.64377133 0.62073379 0.65017065 0.67555461 0.66510239\n",
      " 0.64483788 0.61646758 0.59833618 0.61305461 0.59023273 0.58808929\n",
      " 0.58527321 0.58160877 0.57742763 0.57294846 0.56825751 0.56338799\n",
      " 0.55836755 0.55323434 0.54803467 0.54281706 0.53762621 0.53249967\n",
      " 0.52746636 0.52254617 0.5177514  0.51308775]\n",
      "18 day output [[0.5085555]]\n",
      "19 day input [0.86625427 0.84300341 0.83425768 0.82529863 0.80418089 0.82636519\n",
      " 0.82721843 0.83361775 0.84492321 0.83169795 0.84812287 0.85942833\n",
      " 0.89803754 0.8991041  0.88054608 0.90571672 0.93067406 0.92832765\n",
      " 0.96352389 0.97440273 0.9818686  0.97653584 0.99424061 1.\n",
      " 0.96117747 0.94944539 0.94197952 0.92683447 0.92726109 0.92384812\n",
      " 0.92470137 0.94027304 0.9434727  0.95797782 0.97354949 0.96267065\n",
      " 0.96288396 0.87180034 0.87372014 0.87627986 0.88182594 0.91040956\n",
      " 0.83916382 0.8508959  0.86241468 0.87841297 0.84726962 0.78583618\n",
      " 0.7802901  0.67320819 0.70307167 0.69517918 0.69283276 0.67683447\n",
      " 0.6734215  0.63993174 0.69944539 0.68408703 0.70605802 0.70669795\n",
      " 0.68835324 0.67918089 0.66872867 0.67278157 0.67640785 0.66638225\n",
      " 0.65422355 0.65358362 0.63353242 0.65848976 0.64697099 0.66232935\n",
      " 0.64377133 0.62073379 0.65017065 0.67555461 0.66510239 0.64483788\n",
      " 0.61646758 0.59833618 0.61305461 0.59023273 0.58808929 0.58527321\n",
      " 0.58160877 0.57742763 0.57294846 0.56825751 0.56338799 0.55836755\n",
      " 0.55323434 0.54803467 0.54281706 0.53762621 0.53249967 0.52746636\n",
      " 0.52254617 0.5177514  0.51308775 0.50855547]\n"
     ]
    },
    {
     "name": "stdout",
     "output_type": "stream",
     "text": [
      "19 day output [[0.5041517]]\n",
      "20 day input [0.84300341 0.83425768 0.82529863 0.80418089 0.82636519 0.82721843\n",
      " 0.83361775 0.84492321 0.83169795 0.84812287 0.85942833 0.89803754\n",
      " 0.8991041  0.88054608 0.90571672 0.93067406 0.92832765 0.96352389\n",
      " 0.97440273 0.9818686  0.97653584 0.99424061 1.         0.96117747\n",
      " 0.94944539 0.94197952 0.92683447 0.92726109 0.92384812 0.92470137\n",
      " 0.94027304 0.9434727  0.95797782 0.97354949 0.96267065 0.96288396\n",
      " 0.87180034 0.87372014 0.87627986 0.88182594 0.91040956 0.83916382\n",
      " 0.8508959  0.86241468 0.87841297 0.84726962 0.78583618 0.7802901\n",
      " 0.67320819 0.70307167 0.69517918 0.69283276 0.67683447 0.6734215\n",
      " 0.63993174 0.69944539 0.68408703 0.70605802 0.70669795 0.68835324\n",
      " 0.67918089 0.66872867 0.67278157 0.67640785 0.66638225 0.65422355\n",
      " 0.65358362 0.63353242 0.65848976 0.64697099 0.66232935 0.64377133\n",
      " 0.62073379 0.65017065 0.67555461 0.66510239 0.64483788 0.61646758\n",
      " 0.59833618 0.61305461 0.59023273 0.58808929 0.58527321 0.58160877\n",
      " 0.57742763 0.57294846 0.56825751 0.56338799 0.55836755 0.55323434\n",
      " 0.54803467 0.54281706 0.53762621 0.53249967 0.52746636 0.52254617\n",
      " 0.5177514  0.51308775 0.50855547 0.5041517 ]\n",
      "20 day output [[0.49987087]]\n",
      "21 day input [0.83425768 0.82529863 0.80418089 0.82636519 0.82721843 0.83361775\n",
      " 0.84492321 0.83169795 0.84812287 0.85942833 0.89803754 0.8991041\n",
      " 0.88054608 0.90571672 0.93067406 0.92832765 0.96352389 0.97440273\n",
      " 0.9818686  0.97653584 0.99424061 1.         0.96117747 0.94944539\n",
      " 0.94197952 0.92683447 0.92726109 0.92384812 0.92470137 0.94027304\n",
      " 0.9434727  0.95797782 0.97354949 0.96267065 0.96288396 0.87180034\n",
      " 0.87372014 0.87627986 0.88182594 0.91040956 0.83916382 0.8508959\n",
      " 0.86241468 0.87841297 0.84726962 0.78583618 0.7802901  0.67320819\n",
      " 0.70307167 0.69517918 0.69283276 0.67683447 0.6734215  0.63993174\n",
      " 0.69944539 0.68408703 0.70605802 0.70669795 0.68835324 0.67918089\n",
      " 0.66872867 0.67278157 0.67640785 0.66638225 0.65422355 0.65358362\n",
      " 0.63353242 0.65848976 0.64697099 0.66232935 0.64377133 0.62073379\n",
      " 0.65017065 0.67555461 0.66510239 0.64483788 0.61646758 0.59833618\n",
      " 0.61305461 0.59023273 0.58808929 0.58527321 0.58160877 0.57742763\n",
      " 0.57294846 0.56825751 0.56338799 0.55836755 0.55323434 0.54803467\n",
      " 0.54281706 0.53762621 0.53249967 0.52746636 0.52254617 0.5177514\n",
      " 0.51308775 0.50855547 0.5041517  0.49987087]\n",
      "21 day output [[0.49570638]]\n",
      "22 day input [0.82529863 0.80418089 0.82636519 0.82721843 0.83361775 0.84492321\n",
      " 0.83169795 0.84812287 0.85942833 0.89803754 0.8991041  0.88054608\n",
      " 0.90571672 0.93067406 0.92832765 0.96352389 0.97440273 0.9818686\n",
      " 0.97653584 0.99424061 1.         0.96117747 0.94944539 0.94197952\n",
      " 0.92683447 0.92726109 0.92384812 0.92470137 0.94027304 0.9434727\n",
      " 0.95797782 0.97354949 0.96267065 0.96288396 0.87180034 0.87372014\n",
      " 0.87627986 0.88182594 0.91040956 0.83916382 0.8508959  0.86241468\n",
      " 0.87841297 0.84726962 0.78583618 0.7802901  0.67320819 0.70307167\n",
      " 0.69517918 0.69283276 0.67683447 0.6734215  0.63993174 0.69944539\n",
      " 0.68408703 0.70605802 0.70669795 0.68835324 0.67918089 0.66872867\n",
      " 0.67278157 0.67640785 0.66638225 0.65422355 0.65358362 0.63353242\n",
      " 0.65848976 0.64697099 0.66232935 0.64377133 0.62073379 0.65017065\n",
      " 0.67555461 0.66510239 0.64483788 0.61646758 0.59833618 0.61305461\n",
      " 0.59023273 0.58808929 0.58527321 0.58160877 0.57742763 0.57294846\n",
      " 0.56825751 0.56338799 0.55836755 0.55323434 0.54803467 0.54281706\n",
      " 0.53762621 0.53249967 0.52746636 0.52254617 0.5177514  0.51308775\n",
      " 0.50855547 0.5041517  0.49987087 0.49570638]\n",
      "22 day output [[0.49165082]]\n",
      "23 day input [0.80418089 0.82636519 0.82721843 0.83361775 0.84492321 0.83169795\n",
      " 0.84812287 0.85942833 0.89803754 0.8991041  0.88054608 0.90571672\n",
      " 0.93067406 0.92832765 0.96352389 0.97440273 0.9818686  0.97653584\n",
      " 0.99424061 1.         0.96117747 0.94944539 0.94197952 0.92683447\n",
      " 0.92726109 0.92384812 0.92470137 0.94027304 0.9434727  0.95797782\n",
      " 0.97354949 0.96267065 0.96288396 0.87180034 0.87372014 0.87627986\n",
      " 0.88182594 0.91040956 0.83916382 0.8508959  0.86241468 0.87841297\n",
      " 0.84726962 0.78583618 0.7802901  0.67320819 0.70307167 0.69517918\n",
      " 0.69283276 0.67683447 0.6734215  0.63993174 0.69944539 0.68408703\n",
      " 0.70605802 0.70669795 0.68835324 0.67918089 0.66872867 0.67278157\n",
      " 0.67640785 0.66638225 0.65422355 0.65358362 0.63353242 0.65848976\n",
      " 0.64697099 0.66232935 0.64377133 0.62073379 0.65017065 0.67555461\n",
      " 0.66510239 0.64483788 0.61646758 0.59833618 0.61305461 0.59023273\n",
      " 0.58808929 0.58527321 0.58160877 0.57742763 0.57294846 0.56825751\n",
      " 0.56338799 0.55836755 0.55323434 0.54803467 0.54281706 0.53762621\n",
      " 0.53249967 0.52746636 0.52254617 0.5177514  0.51308775 0.50855547\n",
      " 0.5041517  0.49987087 0.49570638 0.49165082]\n",
      "23 day output [[0.48769715]]\n",
      "24 day input [0.82636519 0.82721843 0.83361775 0.84492321 0.83169795 0.84812287\n",
      " 0.85942833 0.89803754 0.8991041  0.88054608 0.90571672 0.93067406\n",
      " 0.92832765 0.96352389 0.97440273 0.9818686  0.97653584 0.99424061\n",
      " 1.         0.96117747 0.94944539 0.94197952 0.92683447 0.92726109\n",
      " 0.92384812 0.92470137 0.94027304 0.9434727  0.95797782 0.97354949\n",
      " 0.96267065 0.96288396 0.87180034 0.87372014 0.87627986 0.88182594\n",
      " 0.91040956 0.83916382 0.8508959  0.86241468 0.87841297 0.84726962\n",
      " 0.78583618 0.7802901  0.67320819 0.70307167 0.69517918 0.69283276\n",
      " 0.67683447 0.6734215  0.63993174 0.69944539 0.68408703 0.70605802\n",
      " 0.70669795 0.68835324 0.67918089 0.66872867 0.67278157 0.67640785\n",
      " 0.66638225 0.65422355 0.65358362 0.63353242 0.65848976 0.64697099\n",
      " 0.66232935 0.64377133 0.62073379 0.65017065 0.67555461 0.66510239\n",
      " 0.64483788 0.61646758 0.59833618 0.61305461 0.59023273 0.58808929\n",
      " 0.58527321 0.58160877 0.57742763 0.57294846 0.56825751 0.56338799\n",
      " 0.55836755 0.55323434 0.54803467 0.54281706 0.53762621 0.53249967\n",
      " 0.52746636 0.52254617 0.5177514  0.51308775 0.50855547 0.5041517\n",
      " 0.49987087 0.49570638 0.49165082 0.48769715]\n",
      "24 day output [[0.48383853]]\n",
      "25 day input [0.82721843 0.83361775 0.84492321 0.83169795 0.84812287 0.85942833\n",
      " 0.89803754 0.8991041  0.88054608 0.90571672 0.93067406 0.92832765\n",
      " 0.96352389 0.97440273 0.9818686  0.97653584 0.99424061 1.\n",
      " 0.96117747 0.94944539 0.94197952 0.92683447 0.92726109 0.92384812\n",
      " 0.92470137 0.94027304 0.9434727  0.95797782 0.97354949 0.96267065\n",
      " 0.96288396 0.87180034 0.87372014 0.87627986 0.88182594 0.91040956\n",
      " 0.83916382 0.8508959  0.86241468 0.87841297 0.84726962 0.78583618\n",
      " 0.7802901  0.67320819 0.70307167 0.69517918 0.69283276 0.67683447\n",
      " 0.6734215  0.63993174 0.69944539 0.68408703 0.70605802 0.70669795\n",
      " 0.68835324 0.67918089 0.66872867 0.67278157 0.67640785 0.66638225\n",
      " 0.65422355 0.65358362 0.63353242 0.65848976 0.64697099 0.66232935\n",
      " 0.64377133 0.62073379 0.65017065 0.67555461 0.66510239 0.64483788\n",
      " 0.61646758 0.59833618 0.61305461 0.59023273 0.58808929 0.58527321\n",
      " 0.58160877 0.57742763 0.57294846 0.56825751 0.56338799 0.55836755\n",
      " 0.55323434 0.54803467 0.54281706 0.53762621 0.53249967 0.52746636\n",
      " 0.52254617 0.5177514  0.51308775 0.50855547 0.5041517  0.49987087\n",
      " 0.49570638 0.49165082 0.48769715 0.48383853]\n",
      "25 day output [[0.48006848]]\n",
      "26 day input [0.83361775 0.84492321 0.83169795 0.84812287 0.85942833 0.89803754\n",
      " 0.8991041  0.88054608 0.90571672 0.93067406 0.92832765 0.96352389\n",
      " 0.97440273 0.9818686  0.97653584 0.99424061 1.         0.96117747\n",
      " 0.94944539 0.94197952 0.92683447 0.92726109 0.92384812 0.92470137\n",
      " 0.94027304 0.9434727  0.95797782 0.97354949 0.96267065 0.96288396\n",
      " 0.87180034 0.87372014 0.87627986 0.88182594 0.91040956 0.83916382\n",
      " 0.8508959  0.86241468 0.87841297 0.84726962 0.78583618 0.7802901\n",
      " 0.67320819 0.70307167 0.69517918 0.69283276 0.67683447 0.6734215\n",
      " 0.63993174 0.69944539 0.68408703 0.70605802 0.70669795 0.68835324\n",
      " 0.67918089 0.66872867 0.67278157 0.67640785 0.66638225 0.65422355\n",
      " 0.65358362 0.63353242 0.65848976 0.64697099 0.66232935 0.64377133\n",
      " 0.62073379 0.65017065 0.67555461 0.66510239 0.64483788 0.61646758\n",
      " 0.59833618 0.61305461 0.59023273 0.58808929 0.58527321 0.58160877\n",
      " 0.57742763 0.57294846 0.56825751 0.56338799 0.55836755 0.55323434\n",
      " 0.54803467 0.54281706 0.53762621 0.53249967 0.52746636 0.52254617\n",
      " 0.5177514  0.51308775 0.50855547 0.5041517  0.49987087 0.49570638\n",
      " 0.49165082 0.48769715 0.48383853 0.48006848]\n",
      "26 day output [[0.4763816]]\n",
      "27 day input [0.84492321 0.83169795 0.84812287 0.85942833 0.89803754 0.8991041\n",
      " 0.88054608 0.90571672 0.93067406 0.92832765 0.96352389 0.97440273\n",
      " 0.9818686  0.97653584 0.99424061 1.         0.96117747 0.94944539\n",
      " 0.94197952 0.92683447 0.92726109 0.92384812 0.92470137 0.94027304\n",
      " 0.9434727  0.95797782 0.97354949 0.96267065 0.96288396 0.87180034\n",
      " 0.87372014 0.87627986 0.88182594 0.91040956 0.83916382 0.8508959\n",
      " 0.86241468 0.87841297 0.84726962 0.78583618 0.7802901  0.67320819\n",
      " 0.70307167 0.69517918 0.69283276 0.67683447 0.6734215  0.63993174\n",
      " 0.69944539 0.68408703 0.70605802 0.70669795 0.68835324 0.67918089\n",
      " 0.66872867 0.67278157 0.67640785 0.66638225 0.65422355 0.65358362\n",
      " 0.63353242 0.65848976 0.64697099 0.66232935 0.64377133 0.62073379\n",
      " 0.65017065 0.67555461 0.66510239 0.64483788 0.61646758 0.59833618\n",
      " 0.61305461 0.59023273 0.58808929 0.58527321 0.58160877 0.57742763\n",
      " 0.57294846 0.56825751 0.56338799 0.55836755 0.55323434 0.54803467\n",
      " 0.54281706 0.53762621 0.53249967 0.52746636 0.52254617 0.5177514\n",
      " 0.51308775 0.50855547 0.5041517  0.49987087 0.49570638 0.49165082\n",
      " 0.48769715 0.48383853 0.48006848 0.4763816 ]\n",
      "27 day output [[0.4727727]]\n",
      "28 day input [0.83169795 0.84812287 0.85942833 0.89803754 0.8991041  0.88054608\n",
      " 0.90571672 0.93067406 0.92832765 0.96352389 0.97440273 0.9818686\n",
      " 0.97653584 0.99424061 1.         0.96117747 0.94944539 0.94197952\n",
      " 0.92683447 0.92726109 0.92384812 0.92470137 0.94027304 0.9434727\n",
      " 0.95797782 0.97354949 0.96267065 0.96288396 0.87180034 0.87372014\n",
      " 0.87627986 0.88182594 0.91040956 0.83916382 0.8508959  0.86241468\n",
      " 0.87841297 0.84726962 0.78583618 0.7802901  0.67320819 0.70307167\n",
      " 0.69517918 0.69283276 0.67683447 0.6734215  0.63993174 0.69944539\n",
      " 0.68408703 0.70605802 0.70669795 0.68835324 0.67918089 0.66872867\n",
      " 0.67278157 0.67640785 0.66638225 0.65422355 0.65358362 0.63353242\n",
      " 0.65848976 0.64697099 0.66232935 0.64377133 0.62073379 0.65017065\n",
      " 0.67555461 0.66510239 0.64483788 0.61646758 0.59833618 0.61305461\n",
      " 0.59023273 0.58808929 0.58527321 0.58160877 0.57742763 0.57294846\n",
      " 0.56825751 0.56338799 0.55836755 0.55323434 0.54803467 0.54281706\n",
      " 0.53762621 0.53249967 0.52746636 0.52254617 0.5177514  0.51308775\n",
      " 0.50855547 0.5041517  0.49987087 0.49570638 0.49165082 0.48769715\n",
      " 0.48383853 0.48006848 0.4763816  0.47277269]\n"
     ]
    },
    {
     "name": "stdout",
     "output_type": "stream",
     "text": [
      "28 day output [[0.46923718]]\n",
      "29 day input [0.84812287 0.85942833 0.89803754 0.8991041  0.88054608 0.90571672\n",
      " 0.93067406 0.92832765 0.96352389 0.97440273 0.9818686  0.97653584\n",
      " 0.99424061 1.         0.96117747 0.94944539 0.94197952 0.92683447\n",
      " 0.92726109 0.92384812 0.92470137 0.94027304 0.9434727  0.95797782\n",
      " 0.97354949 0.96267065 0.96288396 0.87180034 0.87372014 0.87627986\n",
      " 0.88182594 0.91040956 0.83916382 0.8508959  0.86241468 0.87841297\n",
      " 0.84726962 0.78583618 0.7802901  0.67320819 0.70307167 0.69517918\n",
      " 0.69283276 0.67683447 0.6734215  0.63993174 0.69944539 0.68408703\n",
      " 0.70605802 0.70669795 0.68835324 0.67918089 0.66872867 0.67278157\n",
      " 0.67640785 0.66638225 0.65422355 0.65358362 0.63353242 0.65848976\n",
      " 0.64697099 0.66232935 0.64377133 0.62073379 0.65017065 0.67555461\n",
      " 0.66510239 0.64483788 0.61646758 0.59833618 0.61305461 0.59023273\n",
      " 0.58808929 0.58527321 0.58160877 0.57742763 0.57294846 0.56825751\n",
      " 0.56338799 0.55836755 0.55323434 0.54803467 0.54281706 0.53762621\n",
      " 0.53249967 0.52746636 0.52254617 0.5177514  0.51308775 0.50855547\n",
      " 0.5041517  0.49987087 0.49570638 0.49165082 0.48769715 0.48383853\n",
      " 0.48006848 0.4763816  0.47277269 0.46923718]\n",
      "29 day output [[0.46577102]]\n",
      "[[0.5902327299118042], [0.5880892872810364], [0.5852732062339783], [0.581608772277832], [0.5774276256561279], [0.5729484558105469], [0.5682575106620789], [0.5633879899978638], [0.5583675503730774], [0.553234338760376], [0.54803466796875], [0.5428170561790466], [0.5376262068748474], [0.5324996709823608], [0.527466356754303], [0.5225461721420288], [0.5177513957023621], [0.5130877494812012], [0.5085554718971252], [0.5041517019271851], [0.4998708665370941], [0.49570637941360474], [0.4916508197784424], [0.48769715428352356], [0.4838385283946991], [0.48006847500801086], [0.4763815999031067], [0.4727726876735687], [0.46923717856407166], [0.46577101945877075]]\n"
     ]
    }
   ],
   "source": [
    "import array\n",
    "lst_output=[]\n",
    "n_steps=100\n",
    "i=0\n",
    "while(i<30):\n",
    "    if(len(temp_input)>100):\n",
    "        x_input=np.array(temp_input[1:])\n",
    "        print(\"{} day input {}\".format(i,x_input))\n",
    "        x_input=x_input.reshape(1,-1)\n",
    "        x_input=x_input.reshape(1,n_steps,1)\n",
    "        yhat=model.predict(x_input,verbose=0)\n",
    "        print(\"{} day output {}\".format(i,yhat))\n",
    "        temp_input.extend(yhat[0].tolist())\n",
    "        temp_input=temp_input[1:]\n",
    "        lst_output.extend(yhat.tolist())\n",
    "        i=i+1\n",
    "    else:\n",
    "        x_input=x_input.reshape((1,n_steps,1))\n",
    "        yhat=model.predict(x_input,verbose=0)\n",
    "        print(yhat[0])\n",
    "        temp_input.extend(yhat[0].tolist())\n",
    "        print(len(temp_input))\n",
    "        lst_output.extend(yhat.tolist())\n",
    "        i=i+1\n",
    "print(lst_output)"
   ]
  },
  {
   "cell_type": "code",
   "execution_count": 41,
   "id": "1fc15a92",
   "metadata": {},
   "outputs": [],
   "source": [
    "day_new=np.arange(1,101)\n",
    "day_pred=np.arange(101,131)"
   ]
  },
  {
   "cell_type": "code",
   "execution_count": 42,
   "id": "11879d64",
   "metadata": {},
   "outputs": [],
   "source": [
    "df2=df1.tolist()\n",
    "df2.extend(lst_output)"
   ]
  },
  {
   "cell_type": "code",
   "execution_count": 43,
   "id": "69a23235",
   "metadata": {},
   "outputs": [
    {
     "data": {
      "text/plain": [
       "1259"
      ]
     },
     "execution_count": 43,
     "metadata": {},
     "output_type": "execute_result"
    }
   ],
   "source": [
    "len(df1)"
   ]
  },
  {
   "cell_type": "code",
   "execution_count": 44,
   "id": "8629b50a",
   "metadata": {},
   "outputs": [
    {
     "data": {
      "text/plain": [
       "[<matplotlib.lines.Line2D at 0x28574e140a0>]"
      ]
     },
     "execution_count": 44,
     "metadata": {},
     "output_type": "execute_result"
    },
    {
     "data": {
      "image/png": "[encoded data removed]",
      "text/plain": [
       "<Figure size 432x288 with 1 Axes>"
      ]
     },
     "metadata": {
      "needs_background": "light"
     },
     "output_type": "display_data"
    }
   ],
   "source": [
    "plt.plot(day_new,scale.inverse_transform(df1[1159:]))\n",
    "plt.plot(day_pred,scale.inverse_transform(lst_output))"
   ]
  },
  {
   "cell_type": "code",
   "execution_count": 49,
   "id": "5054b4dc",
   "metadata": {},
   "outputs": [
    {
     "data": {
      "text/plain": [
       "[<matplotlib.lines.Line2D at 0x285718edb20>]"
      ]
     },
     "execution_count": 49,
     "metadata": {},
     "output_type": "execute_result"
    },
    {
     "data": {
      "image/png": "[encoded data removed]",
      "text/plain": [
       "<Figure size 432x288 with 1 Axes>"
      ]
     },
     "metadata": {
      "needs_background": "light"
     },
     "output_type": "display_data"
    }
   ],
   "source": [
    "df3=df1.tolist()\n",
    "df3.extend(lst_output)\n",
    "plt.plot(df3[1200:])"
   ]
  },
  {
   "cell_type": "code",
   "execution_count": 50,
   "id": "ce3fb313",
   "metadata": {},
   "outputs": [
    {
     "ename": "AttributeError",
     "evalue": "'str' object has no attribute 'post'",
     "output_type": "error",
     "traceback": [
      "\u001b[1;31m---------------------------------------------------------------------------\u001b[0m",
      "\u001b[1;31mAttributeError\u001b[0m                            Traceback (most recent call last)",
      "\u001b[1;32m<ipython-input-50-0668f6c60bf7>\u001b[0m in \u001b[0;36m<module>\u001b[1;34m\u001b[0m\n\u001b[0;32m      1\u001b[0m \u001b[1;32mimport\u001b[0m \u001b[0mrequests\u001b[0m\u001b[1;33m\u001b[0m\u001b[1;33m\u001b[0m\u001b[0m\n\u001b[0;32m      2\u001b[0m \u001b[0murl\u001b[0m \u001b[1;33m=\u001b[0m\u001b[1;34m\"http://192.168.0.101:9696/\"\u001b[0m\u001b[1;33m\u001b[0m\u001b[1;33m\u001b[0m\u001b[0m\n\u001b[1;32m----> 3\u001b[1;33m \u001b[0mc\u001b[0m \u001b[1;33m=\u001b[0m \u001b[0murl\u001b[0m\u001b[1;33m.\u001b[0m\u001b[0mpost\u001b[0m\u001b[1;33m(\u001b[0m\u001b[0murl\u001b[0m\u001b[1;33m,\u001b[0m\u001b[0mjason\u001b[0m \u001b[1;33m=\u001b[0m \u001b[0mstock_config\u001b[0m\u001b[1;33m)\u001b[0m\u001b[1;33m\u001b[0m\u001b[1;33m\u001b[0m\u001b[0m\n\u001b[0m\u001b[0;32m      4\u001b[0m \u001b[0mr\u001b[0m\u001b[1;33m.\u001b[0m\u001b[0mtext\u001b[0m\u001b[1;33m.\u001b[0m\u001b[0mstrip\u001b[0m\u001b[1;33m(\u001b[0m\u001b[1;33m)\u001b[0m\u001b[1;33m\u001b[0m\u001b[1;33m\u001b[0m\u001b[0m\n",
      "\u001b[1;31mAttributeError\u001b[0m: 'str' object has no attribute 'post'"
     ]
    }
   ],
   "source": [
    "import requests\n",
    "url =\"http://192.168.0.101:9696/\"\n",
    "c = url.post(url,jason = stock_config)\n",
    "r.text.strip()"
   ]
  },
  {
   "cell_type": "code",
   "execution_count": null,
   "id": "da50ca2c",
   "metadata": {},
   "outputs": [],
   "source": []
  }
 ],
 "metadata": {
  "kernelspec": {
   "display_name": "Python 3",
   "language": "python",
   "name": "python3"
  },
  "language_info": {
   "codemirror_mode": {
    "name": "ipython",
    "version": 3
   },
   "file_extension": ".py",
   "mimetype": "text/x-python",
   "name": "python",
   "nbconvert_exporter": "python",
   "pygments_lexer": "ipython3",
   "version": "3.8.8"
  }
 },
 "nbformat": 4,
 "nbformat_minor": 5
}
